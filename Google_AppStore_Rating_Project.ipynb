{
 "cells": [
  {
   "cell_type": "markdown",
   "id": "42c3f701-5526-4d72-b124-4522ce8aa2f5",
   "metadata": {},
   "source": [
    "<font  style = \"font-weight: bold; color:blue; font-size:2.5em;\">EDA & Data Preprocessing on Google App Store Rating Dataset."
   ]
  },
  {
   "cell_type": "markdown",
   "id": "335a49ac-24f3-4413-a54f-792aebff1ca2",
   "metadata": {},
   "source": [
    "## Domain: Mobile device apps"
   ]
  },
  {
   "cell_type": "markdown",
   "id": "af39bd3a-76f0-4a0c-a543-f68771f8282c",
   "metadata": {},
   "source": [
    "## Content :"
   ]
  },
  {
   "cell_type": "markdown",
   "id": "1b9cecf1-482d-4f6c-a4e3-38a86454e4fd",
   "metadata": {},
   "source": [
    "The Play Store apps data has enormous potential to drive app-making businesses to success. However, many\r\n",
    "apps are being developed every single day and only a few of them become profitable. It is important for\r\n",
    "developers to be able to predict the success of their app and incorporate features which makes an app\r\n",
    "successful. Before any such predictive-study can be done, it is necessary to do EDA and data-preprocessing on\r\n",
    "the apps data available for google app store applications. From the collected apps data and user ratings from\r\n",
    "the app stores, let's try to extract insightful information"
   ]
  },
  {
   "cell_type": "markdown",
   "id": "1315d775-82f2-47c5-9876-c86bc1060e59",
   "metadata": {},
   "source": [
    "## Objective:"
   ]
  },
  {
   "cell_type": "markdown",
   "id": "55564593-a65a-4a7a-a53c-6abb3d5fd645",
   "metadata": {},
   "source": [
    " The Goal is to explore the data and pre-process it for future use in any predictive analytics study."
   ]
  },
  {
   "cell_type": "markdown",
   "id": "318a2d03-c866-485c-b992-c660978ea71f",
   "metadata": {},
   "source": [
    "### Attribute Description\n",
    "1. App : Application name\n",
    "2. Category : Category the app belongs to.\n",
    "3. Rating : Overall user rating of the app\n",
    "4. Size : Size of the app\n",
    "5. Installs : Number of user reviews for the app\n",
    "6. Type : Paid or Free\n",
    "7. Price Price of the app\n",
    "8. Content Rating : Age group the app is targeted at - children/Mature 21+ /Adult\n",
    "Proprietary content. © Great Learning. All Rights Reserved. Unauthorized use or distribution prohibited. 1\n",
    "9. Genres : An app can belong to multiple genres (apart from its main category). For eg. a\n",
    "musical family game will belong to Music, Game, Family genres.\n",
    "10. Last Updated : Date when the app was last updated on play store.\n",
    "11. Current Ver :  Current version of the app available on play store.\n",
    "12. Android Ver :  Min required Android Version.\n"
   ]
  },
  {
   "cell_type": "markdown",
   "id": "48c8683b-d654-4e83-9934-39496c10ba3b",
   "metadata": {},
   "source": [
    "<font  style = \"font-weight: bold;  font-size:1.9em;\">1. Import required libraries and read the dataset.</font>"
   ]
  },
  {
   "cell_type": "code",
   "execution_count": 1,
   "id": "0cfc1bc6-142e-4831-8898-1f6b165be8f7",
   "metadata": {},
   "outputs": [],
   "source": [
    "import numpy as np\n",
    "import pandas as pd\n",
    "import matplotlib.pyplot as plt \n",
    "import seaborn as sns\n",
    "from sklearn.model_selection import train_test_split\n",
    "from sklearn.preprocessing import MinMaxScaler"
   ]
  },
  {
   "cell_type": "code",
   "execution_count": 2,
   "id": "59a32989-1564-4637-ace4-114154026652",
   "metadata": {},
   "outputs": [
    {
     "data": {
      "text/html": [
       "<div>\n",
       "<style scoped>\n",
       "    .dataframe tbody tr th:only-of-type {\n",
       "        vertical-align: middle;\n",
       "    }\n",
       "\n",
       "    .dataframe tbody tr th {\n",
       "        vertical-align: top;\n",
       "    }\n",
       "\n",
       "    .dataframe thead th {\n",
       "        text-align: right;\n",
       "    }\n",
       "</style>\n",
       "<table border=\"1\" class=\"dataframe\">\n",
       "  <thead>\n",
       "    <tr style=\"text-align: right;\">\n",
       "      <th></th>\n",
       "      <th>App</th>\n",
       "      <th>Category</th>\n",
       "      <th>Rating</th>\n",
       "      <th>Reviews</th>\n",
       "      <th>Size</th>\n",
       "      <th>Installs</th>\n",
       "      <th>Type</th>\n",
       "      <th>Price</th>\n",
       "      <th>Content Rating</th>\n",
       "      <th>Genres</th>\n",
       "      <th>Last Updated</th>\n",
       "      <th>Current Ver</th>\n",
       "      <th>Android Ver</th>\n",
       "    </tr>\n",
       "  </thead>\n",
       "  <tbody>\n",
       "    <tr>\n",
       "      <th>0</th>\n",
       "      <td>Photo Editor &amp; Candy Camera &amp; Grid &amp; ScrapBook</td>\n",
       "      <td>ART_AND_DESIGN</td>\n",
       "      <td>4.1</td>\n",
       "      <td>159</td>\n",
       "      <td>19M</td>\n",
       "      <td>10,000+</td>\n",
       "      <td>Free</td>\n",
       "      <td>0</td>\n",
       "      <td>Everyone</td>\n",
       "      <td>Art &amp; Design</td>\n",
       "      <td>January 7, 2018</td>\n",
       "      <td>1.0.0</td>\n",
       "      <td>4.0.3 and up</td>\n",
       "    </tr>\n",
       "    <tr>\n",
       "      <th>1</th>\n",
       "      <td>Coloring book moana</td>\n",
       "      <td>ART_AND_DESIGN</td>\n",
       "      <td>3.9</td>\n",
       "      <td>967</td>\n",
       "      <td>14M</td>\n",
       "      <td>500,000+</td>\n",
       "      <td>Free</td>\n",
       "      <td>0</td>\n",
       "      <td>Everyone</td>\n",
       "      <td>Art &amp; Design;Pretend Play</td>\n",
       "      <td>January 15, 2018</td>\n",
       "      <td>2.0.0</td>\n",
       "      <td>4.0.3 and up</td>\n",
       "    </tr>\n",
       "  </tbody>\n",
       "</table>\n",
       "</div>"
      ],
      "text/plain": [
       "                                              App        Category  Rating  \\\n",
       "0  Photo Editor & Candy Camera & Grid & ScrapBook  ART_AND_DESIGN     4.1   \n",
       "1                             Coloring book moana  ART_AND_DESIGN     3.9   \n",
       "\n",
       "  Reviews Size  Installs  Type Price Content Rating  \\\n",
       "0     159  19M   10,000+  Free     0       Everyone   \n",
       "1     967  14M  500,000+  Free     0       Everyone   \n",
       "\n",
       "                      Genres      Last Updated Current Ver   Android Ver  \n",
       "0               Art & Design   January 7, 2018       1.0.0  4.0.3 and up  \n",
       "1  Art & Design;Pretend Play  January 15, 2018       2.0.0  4.0.3 and up  "
      ]
     },
     "execution_count": 2,
     "metadata": {},
     "output_type": "execute_result"
    }
   ],
   "source": [
    "# importing and displaying dataset\n",
    "df = pd.read_csv('Google_playstore_Apps_data.csv')\n",
    "df.head(2)"
   ]
  },
  {
   "cell_type": "markdown",
   "id": "001919cd-e7bc-405d-b863-6159a6fc0ec1",
   "metadata": {},
   "source": [
    "<font  style = \"font-weight: bold;  font-size:1.9em;\">2. Check the first few samples, shape, info of the data and try to familiarize yourself with different features.</font>"
   ]
  },
  {
   "cell_type": "code",
   "execution_count": 3,
   "id": "6baf6157-4d27-4815-8f19-017aeead7f19",
   "metadata": {
    "scrolled": true
   },
   "outputs": [
    {
     "data": {
      "text/html": [
       "<div>\n",
       "<style scoped>\n",
       "    .dataframe tbody tr th:only-of-type {\n",
       "        vertical-align: middle;\n",
       "    }\n",
       "\n",
       "    .dataframe tbody tr th {\n",
       "        vertical-align: top;\n",
       "    }\n",
       "\n",
       "    .dataframe thead th {\n",
       "        text-align: right;\n",
       "    }\n",
       "</style>\n",
       "<table border=\"1\" class=\"dataframe\">\n",
       "  <thead>\n",
       "    <tr style=\"text-align: right;\">\n",
       "      <th></th>\n",
       "      <th>App</th>\n",
       "      <th>Category</th>\n",
       "      <th>Rating</th>\n",
       "      <th>Reviews</th>\n",
       "      <th>Size</th>\n",
       "      <th>Installs</th>\n",
       "      <th>Type</th>\n",
       "      <th>Price</th>\n",
       "      <th>Content Rating</th>\n",
       "      <th>Genres</th>\n",
       "      <th>Last Updated</th>\n",
       "      <th>Current Ver</th>\n",
       "      <th>Android Ver</th>\n",
       "    </tr>\n",
       "  </thead>\n",
       "  <tbody>\n",
       "    <tr>\n",
       "      <th>8656</th>\n",
       "      <td>Time Planner - Schedule, To-Do List, Time Tracker</td>\n",
       "      <td>PRODUCTIVITY</td>\n",
       "      <td>4.2</td>\n",
       "      <td>2537</td>\n",
       "      <td>8.5M</td>\n",
       "      <td>500,000+</td>\n",
       "      <td>Free</td>\n",
       "      <td>0</td>\n",
       "      <td>Everyone</td>\n",
       "      <td>Productivity</td>\n",
       "      <td>January 10, 2018</td>\n",
       "      <td>2.2 (Protostar)</td>\n",
       "      <td>4.0 and up</td>\n",
       "    </tr>\n",
       "    <tr>\n",
       "      <th>1008</th>\n",
       "      <td>StubHub - Tickets to Sports, Concerts &amp; Events</td>\n",
       "      <td>EVENTS</td>\n",
       "      <td>4.0</td>\n",
       "      <td>26089</td>\n",
       "      <td>Varies with device</td>\n",
       "      <td>5,000,000+</td>\n",
       "      <td>Free</td>\n",
       "      <td>0</td>\n",
       "      <td>Everyone</td>\n",
       "      <td>Events</td>\n",
       "      <td>August 2, 2018</td>\n",
       "      <td>4.2.1</td>\n",
       "      <td>Varies with device</td>\n",
       "    </tr>\n",
       "    <tr>\n",
       "      <th>5805</th>\n",
       "      <td>Knife&amp;Axe Throwing</td>\n",
       "      <td>GAME</td>\n",
       "      <td>3.1</td>\n",
       "      <td>440</td>\n",
       "      <td>9.1M</td>\n",
       "      <td>50,000+</td>\n",
       "      <td>Free</td>\n",
       "      <td>0</td>\n",
       "      <td>Everyone</td>\n",
       "      <td>Arcade</td>\n",
       "      <td>November 26, 2012</td>\n",
       "      <td>1.0.6</td>\n",
       "      <td>2.1 and up</td>\n",
       "    </tr>\n",
       "    <tr>\n",
       "      <th>3504</th>\n",
       "      <td>Todoist: To-do lists for task management &amp; err...</td>\n",
       "      <td>PRODUCTIVITY</td>\n",
       "      <td>4.5</td>\n",
       "      <td>155999</td>\n",
       "      <td>12M</td>\n",
       "      <td>10,000,000+</td>\n",
       "      <td>Free</td>\n",
       "      <td>0</td>\n",
       "      <td>Everyone</td>\n",
       "      <td>Productivity</td>\n",
       "      <td>August 5, 2018</td>\n",
       "      <td>12.8.2</td>\n",
       "      <td>4.4 and up</td>\n",
       "    </tr>\n",
       "    <tr>\n",
       "      <th>2267</th>\n",
       "      <td>Pocket Lab Values</td>\n",
       "      <td>MEDICAL</td>\n",
       "      <td>4.3</td>\n",
       "      <td>214</td>\n",
       "      <td>899k</td>\n",
       "      <td>10,000+</td>\n",
       "      <td>Paid</td>\n",
       "      <td>$2.99</td>\n",
       "      <td>Everyone</td>\n",
       "      <td>Medical</td>\n",
       "      <td>November 22, 2012</td>\n",
       "      <td>2.5</td>\n",
       "      <td>2.1 and up</td>\n",
       "    </tr>\n",
       "    <tr>\n",
       "      <th>5133</th>\n",
       "      <td>AH Connect (Adventist Health)</td>\n",
       "      <td>HEALTH_AND_FITNESS</td>\n",
       "      <td>3.4</td>\n",
       "      <td>5</td>\n",
       "      <td>59M</td>\n",
       "      <td>1,000+</td>\n",
       "      <td>Free</td>\n",
       "      <td>0</td>\n",
       "      <td>Everyone</td>\n",
       "      <td>Health &amp; Fitness</td>\n",
       "      <td>January 23, 2018</td>\n",
       "      <td>3.5.1</td>\n",
       "      <td>4.4 and up</td>\n",
       "    </tr>\n",
       "    <tr>\n",
       "      <th>5932</th>\n",
       "      <td>Elif Ba - Learn The Holy Quran</td>\n",
       "      <td>FAMILY</td>\n",
       "      <td>4.8</td>\n",
       "      <td>1491</td>\n",
       "      <td>38M</td>\n",
       "      <td>50,000+</td>\n",
       "      <td>Free</td>\n",
       "      <td>0</td>\n",
       "      <td>Everyone</td>\n",
       "      <td>Education</td>\n",
       "      <td>October 31, 2017</td>\n",
       "      <td>1.3</td>\n",
       "      <td>4.1 and up</td>\n",
       "    </tr>\n",
       "    <tr>\n",
       "      <th>6117</th>\n",
       "      <td>CE BF</td>\n",
       "      <td>LIFESTYLE</td>\n",
       "      <td>NaN</td>\n",
       "      <td>0</td>\n",
       "      <td>24M</td>\n",
       "      <td>50+</td>\n",
       "      <td>Free</td>\n",
       "      <td>0</td>\n",
       "      <td>Everyone</td>\n",
       "      <td>Lifestyle</td>\n",
       "      <td>January 2, 2018</td>\n",
       "      <td>1.0.1</td>\n",
       "      <td>4.1 and up</td>\n",
       "    </tr>\n",
       "    <tr>\n",
       "      <th>10727</th>\n",
       "      <td>Fon WiFi App – WiFi Connect</td>\n",
       "      <td>TOOLS</td>\n",
       "      <td>4.1</td>\n",
       "      <td>222</td>\n",
       "      <td>16M</td>\n",
       "      <td>50,000+</td>\n",
       "      <td>Free</td>\n",
       "      <td>0</td>\n",
       "      <td>Everyone</td>\n",
       "      <td>Tools</td>\n",
       "      <td>July 26, 2018</td>\n",
       "      <td>2.2.4</td>\n",
       "      <td>4.4 and up</td>\n",
       "    </tr>\n",
       "    <tr>\n",
       "      <th>2035</th>\n",
       "      <td>Kids Educational :All in One</td>\n",
       "      <td>FAMILY</td>\n",
       "      <td>4.5</td>\n",
       "      <td>1455</td>\n",
       "      <td>8.9M</td>\n",
       "      <td>500,000+</td>\n",
       "      <td>Free</td>\n",
       "      <td>0</td>\n",
       "      <td>Everyone</td>\n",
       "      <td>Education;Education</td>\n",
       "      <td>February 1, 2018</td>\n",
       "      <td>2.7</td>\n",
       "      <td>2.3 and up</td>\n",
       "    </tr>\n",
       "  </tbody>\n",
       "</table>\n",
       "</div>"
      ],
      "text/plain": [
       "                                                     App            Category  \\\n",
       "8656   Time Planner - Schedule, To-Do List, Time Tracker        PRODUCTIVITY   \n",
       "1008      StubHub - Tickets to Sports, Concerts & Events              EVENTS   \n",
       "5805                                  Knife&Axe Throwing                GAME   \n",
       "3504   Todoist: To-do lists for task management & err...        PRODUCTIVITY   \n",
       "2267                                   Pocket Lab Values             MEDICAL   \n",
       "5133                       AH Connect (Adventist Health)  HEALTH_AND_FITNESS   \n",
       "5932                      Elif Ba - Learn The Holy Quran              FAMILY   \n",
       "6117                                               CE BF           LIFESTYLE   \n",
       "10727                        Fon WiFi App – WiFi Connect               TOOLS   \n",
       "2035                        Kids Educational :All in One              FAMILY   \n",
       "\n",
       "       Rating Reviews                Size     Installs  Type  Price  \\\n",
       "8656      4.2    2537                8.5M     500,000+  Free      0   \n",
       "1008      4.0   26089  Varies with device   5,000,000+  Free      0   \n",
       "5805      3.1     440                9.1M      50,000+  Free      0   \n",
       "3504      4.5  155999                 12M  10,000,000+  Free      0   \n",
       "2267      4.3     214                899k      10,000+  Paid  $2.99   \n",
       "5133      3.4       5                 59M       1,000+  Free      0   \n",
       "5932      4.8    1491                 38M      50,000+  Free      0   \n",
       "6117      NaN       0                 24M          50+  Free      0   \n",
       "10727     4.1     222                 16M      50,000+  Free      0   \n",
       "2035      4.5    1455                8.9M     500,000+  Free      0   \n",
       "\n",
       "      Content Rating               Genres       Last Updated      Current Ver  \\\n",
       "8656        Everyone         Productivity   January 10, 2018  2.2 (Protostar)   \n",
       "1008        Everyone               Events     August 2, 2018            4.2.1   \n",
       "5805        Everyone               Arcade  November 26, 2012            1.0.6   \n",
       "3504        Everyone         Productivity     August 5, 2018           12.8.2   \n",
       "2267        Everyone              Medical  November 22, 2012              2.5   \n",
       "5133        Everyone     Health & Fitness   January 23, 2018            3.5.1   \n",
       "5932        Everyone            Education   October 31, 2017              1.3   \n",
       "6117        Everyone            Lifestyle    January 2, 2018            1.0.1   \n",
       "10727       Everyone                Tools      July 26, 2018            2.2.4   \n",
       "2035        Everyone  Education;Education   February 1, 2018              2.7   \n",
       "\n",
       "              Android Ver  \n",
       "8656           4.0 and up  \n",
       "1008   Varies with device  \n",
       "5805           2.1 and up  \n",
       "3504           4.4 and up  \n",
       "2267           2.1 and up  \n",
       "5133           4.4 and up  \n",
       "5932           4.1 and up  \n",
       "6117           4.1 and up  \n",
       "10727          4.4 and up  \n",
       "2035           2.3 and up  "
      ]
     },
     "execution_count": 3,
     "metadata": {},
     "output_type": "execute_result"
    }
   ],
   "source": [
    "# extracting some sample from the Dataset\n",
    "df.sample(10)"
   ]
  },
  {
   "cell_type": "code",
   "execution_count": 4,
   "id": "f78dad37-e57d-4e07-943f-255e9bd3f0f1",
   "metadata": {},
   "outputs": [
    {
     "data": {
      "text/plain": [
       "(10841, 13)"
      ]
     },
     "execution_count": 4,
     "metadata": {},
     "output_type": "execute_result"
    }
   ],
   "source": [
    "# cheking the shape of the dataset\n",
    "df.shape"
   ]
  },
  {
   "cell_type": "markdown",
   "id": "34b21fef-5a2b-4c8a-bec5-a5e2696784a6",
   "metadata": {},
   "source": [
    "10841 Rows and\n",
    "13 columns"
   ]
  },
  {
   "cell_type": "code",
   "execution_count": 5,
   "id": "261f1c16-b606-4ca5-aafd-f78efd32c7c3",
   "metadata": {
    "scrolled": true
   },
   "outputs": [
    {
     "name": "stdout",
     "output_type": "stream",
     "text": [
      "<class 'pandas.core.frame.DataFrame'>\n",
      "RangeIndex: 10841 entries, 0 to 10840\n",
      "Data columns (total 13 columns):\n",
      " #   Column          Non-Null Count  Dtype  \n",
      "---  ------          --------------  -----  \n",
      " 0   App             10841 non-null  object \n",
      " 1   Category        10841 non-null  object \n",
      " 2   Rating          9367 non-null   float64\n",
      " 3   Reviews         10841 non-null  object \n",
      " 4   Size            10841 non-null  object \n",
      " 5   Installs        10841 non-null  object \n",
      " 6   Type            10840 non-null  object \n",
      " 7   Price           10841 non-null  object \n",
      " 8   Content Rating  10840 non-null  object \n",
      " 9   Genres          10841 non-null  object \n",
      " 10  Last Updated    10841 non-null  object \n",
      " 11  Current Ver     10833 non-null  object \n",
      " 12  Android Ver     10838 non-null  object \n",
      "dtypes: float64(1), object(12)\n",
      "memory usage: 1.1+ MB\n"
     ]
    }
   ],
   "source": [
    "# getting information of dataset  by using info method\n",
    "df.info()"
   ]
  },
  {
   "cell_type": "markdown",
   "id": "320847b5-f8e9-465d-a859-b31b954829b9",
   "metadata": {},
   "source": [
    "All Variables are in Object DataType except **Rating** Variable "
   ]
  },
  {
   "cell_type": "code",
   "execution_count": 6,
   "id": "fa0671bf-aa86-4029-a769-1eb298a85201",
   "metadata": {},
   "outputs": [
    {
     "data": {
      "text/plain": [
       "App               9660\n",
       "Category            34\n",
       "Rating              40\n",
       "Reviews           6002\n",
       "Size               462\n",
       "Installs            22\n",
       "Type                 3\n",
       "Price               93\n",
       "Content Rating       6\n",
       "Genres             120\n",
       "Last Updated      1378\n",
       "Current Ver       2832\n",
       "Android Ver         33\n",
       "dtype: int64"
      ]
     },
     "execution_count": 6,
     "metadata": {},
     "output_type": "execute_result"
    }
   ],
   "source": [
    "# Returning a Series with number of distinct elements, by ignoring nan\n",
    "df.nunique()"
   ]
  },
  {
   "cell_type": "code",
   "execution_count": null,
   "id": "95380a42-731a-474a-82ed-619e2e279f16",
   "metadata": {},
   "outputs": [],
   "source": []
  },
  {
   "cell_type": "code",
   "execution_count": 7,
   "id": "3477d702-1e66-473d-afd5-60c32b11843e",
   "metadata": {
    "scrolled": true
   },
   "outputs": [
    {
     "data": {
      "text/plain": [
       "App                  0\n",
       "Category             0\n",
       "Rating            1474\n",
       "Reviews              0\n",
       "Size                 0\n",
       "Installs             0\n",
       "Type                 1\n",
       "Price                0\n",
       "Content Rating       1\n",
       "Genres               0\n",
       "Last Updated         0\n",
       "Current Ver          8\n",
       "Android Ver          3\n",
       "dtype: int64"
      ]
     },
     "execution_count": 7,
     "metadata": {},
     "output_type": "execute_result"
    }
   ],
   "source": [
    "# checking NUll values in dataset\n",
    "df.isnull().sum()"
   ]
  },
  {
   "cell_type": "code",
   "execution_count": null,
   "id": "b58a884e-341f-4ee8-9d61-4f46ba3877bc",
   "metadata": {},
   "outputs": [],
   "source": []
  },
  {
   "cell_type": "markdown",
   "id": "d0978921-9cf1-4cba-9ebe-cf0949c55fef",
   "metadata": {},
   "source": [
    "<font  style = \"font-weight: bold; font-size:1.9em;\">3. Check summary statistics of the dataset. List out the columns that need to be worked upon for model building.</font>"
   ]
  },
  {
   "cell_type": "code",
   "execution_count": 8,
   "id": "afdfb5b6-38ac-4876-b86a-155b78280033",
   "metadata": {},
   "outputs": [
    {
     "data": {
      "text/html": [
       "<div>\n",
       "<style scoped>\n",
       "    .dataframe tbody tr th:only-of-type {\n",
       "        vertical-align: middle;\n",
       "    }\n",
       "\n",
       "    .dataframe tbody tr th {\n",
       "        vertical-align: top;\n",
       "    }\n",
       "\n",
       "    .dataframe thead th {\n",
       "        text-align: right;\n",
       "    }\n",
       "</style>\n",
       "<table border=\"1\" class=\"dataframe\">\n",
       "  <thead>\n",
       "    <tr style=\"text-align: right;\">\n",
       "      <th></th>\n",
       "      <th>Rating</th>\n",
       "    </tr>\n",
       "  </thead>\n",
       "  <tbody>\n",
       "    <tr>\n",
       "      <th>count</th>\n",
       "      <td>9367.000000</td>\n",
       "    </tr>\n",
       "    <tr>\n",
       "      <th>mean</th>\n",
       "      <td>4.193338</td>\n",
       "    </tr>\n",
       "    <tr>\n",
       "      <th>std</th>\n",
       "      <td>0.537431</td>\n",
       "    </tr>\n",
       "    <tr>\n",
       "      <th>min</th>\n",
       "      <td>1.000000</td>\n",
       "    </tr>\n",
       "    <tr>\n",
       "      <th>25%</th>\n",
       "      <td>4.000000</td>\n",
       "    </tr>\n",
       "    <tr>\n",
       "      <th>50%</th>\n",
       "      <td>4.300000</td>\n",
       "    </tr>\n",
       "    <tr>\n",
       "      <th>75%</th>\n",
       "      <td>4.500000</td>\n",
       "    </tr>\n",
       "    <tr>\n",
       "      <th>max</th>\n",
       "      <td>19.000000</td>\n",
       "    </tr>\n",
       "  </tbody>\n",
       "</table>\n",
       "</div>"
      ],
      "text/plain": [
       "            Rating\n",
       "count  9367.000000\n",
       "mean      4.193338\n",
       "std       0.537431\n",
       "min       1.000000\n",
       "25%       4.000000\n",
       "50%       4.300000\n",
       "75%       4.500000\n",
       "max      19.000000"
      ]
     },
     "execution_count": 8,
     "metadata": {},
     "output_type": "execute_result"
    }
   ],
   "source": [
    "# cheking summary statistics of the dataset\n",
    "df.describe()"
   ]
  },
  {
   "cell_type": "code",
   "execution_count": 9,
   "id": "750e7e1a-059a-4d52-935f-c8ee1d198c90",
   "metadata": {},
   "outputs": [
    {
     "data": {
      "text/html": [
       "<div>\n",
       "<style scoped>\n",
       "    .dataframe tbody tr th:only-of-type {\n",
       "        vertical-align: middle;\n",
       "    }\n",
       "\n",
       "    .dataframe tbody tr th {\n",
       "        vertical-align: top;\n",
       "    }\n",
       "\n",
       "    .dataframe thead th {\n",
       "        text-align: right;\n",
       "    }\n",
       "</style>\n",
       "<table border=\"1\" class=\"dataframe\">\n",
       "  <thead>\n",
       "    <tr style=\"text-align: right;\">\n",
       "      <th></th>\n",
       "      <th>count</th>\n",
       "      <th>unique</th>\n",
       "      <th>top</th>\n",
       "      <th>freq</th>\n",
       "    </tr>\n",
       "  </thead>\n",
       "  <tbody>\n",
       "    <tr>\n",
       "      <th>App</th>\n",
       "      <td>10841</td>\n",
       "      <td>9660</td>\n",
       "      <td>ROBLOX</td>\n",
       "      <td>9</td>\n",
       "    </tr>\n",
       "    <tr>\n",
       "      <th>Category</th>\n",
       "      <td>10841</td>\n",
       "      <td>34</td>\n",
       "      <td>FAMILY</td>\n",
       "      <td>1972</td>\n",
       "    </tr>\n",
       "    <tr>\n",
       "      <th>Reviews</th>\n",
       "      <td>10841</td>\n",
       "      <td>6002</td>\n",
       "      <td>0</td>\n",
       "      <td>596</td>\n",
       "    </tr>\n",
       "    <tr>\n",
       "      <th>Size</th>\n",
       "      <td>10841</td>\n",
       "      <td>462</td>\n",
       "      <td>Varies with device</td>\n",
       "      <td>1695</td>\n",
       "    </tr>\n",
       "    <tr>\n",
       "      <th>Installs</th>\n",
       "      <td>10841</td>\n",
       "      <td>22</td>\n",
       "      <td>1,000,000+</td>\n",
       "      <td>1579</td>\n",
       "    </tr>\n",
       "    <tr>\n",
       "      <th>Type</th>\n",
       "      <td>10840</td>\n",
       "      <td>3</td>\n",
       "      <td>Free</td>\n",
       "      <td>10039</td>\n",
       "    </tr>\n",
       "    <tr>\n",
       "      <th>Price</th>\n",
       "      <td>10841</td>\n",
       "      <td>93</td>\n",
       "      <td>0</td>\n",
       "      <td>10040</td>\n",
       "    </tr>\n",
       "    <tr>\n",
       "      <th>Content Rating</th>\n",
       "      <td>10840</td>\n",
       "      <td>6</td>\n",
       "      <td>Everyone</td>\n",
       "      <td>8714</td>\n",
       "    </tr>\n",
       "    <tr>\n",
       "      <th>Genres</th>\n",
       "      <td>10841</td>\n",
       "      <td>120</td>\n",
       "      <td>Tools</td>\n",
       "      <td>842</td>\n",
       "    </tr>\n",
       "    <tr>\n",
       "      <th>Last Updated</th>\n",
       "      <td>10841</td>\n",
       "      <td>1378</td>\n",
       "      <td>August 3, 2018</td>\n",
       "      <td>326</td>\n",
       "    </tr>\n",
       "    <tr>\n",
       "      <th>Current Ver</th>\n",
       "      <td>10833</td>\n",
       "      <td>2832</td>\n",
       "      <td>Varies with device</td>\n",
       "      <td>1459</td>\n",
       "    </tr>\n",
       "    <tr>\n",
       "      <th>Android Ver</th>\n",
       "      <td>10838</td>\n",
       "      <td>33</td>\n",
       "      <td>4.1 and up</td>\n",
       "      <td>2451</td>\n",
       "    </tr>\n",
       "  </tbody>\n",
       "</table>\n",
       "</div>"
      ],
      "text/plain": [
       "                count unique                 top   freq\n",
       "App             10841   9660              ROBLOX      9\n",
       "Category        10841     34              FAMILY   1972\n",
       "Reviews         10841   6002                   0    596\n",
       "Size            10841    462  Varies with device   1695\n",
       "Installs        10841     22          1,000,000+   1579\n",
       "Type            10840      3                Free  10039\n",
       "Price           10841     93                   0  10040\n",
       "Content Rating  10840      6            Everyone   8714\n",
       "Genres          10841    120               Tools    842\n",
       "Last Updated    10841   1378      August 3, 2018    326\n",
       "Current Ver     10833   2832  Varies with device   1459\n",
       "Android Ver     10838     33          4.1 and up   2451"
      ]
     },
     "execution_count": 9,
     "metadata": {},
     "output_type": "execute_result"
    }
   ],
   "source": [
    "# cheking summary statistics of the dataset\n",
    "df.describe(include = 'O').transpose()"
   ]
  },
  {
   "cell_type": "markdown",
   "id": "46d71d80-925b-42d4-a4e9-a44193054a35",
   "metadata": {},
   "source": [
    "* columns that are need to be worked upon\n",
    "  * Reviews --> has to convert Object DataType to Interger DataType\n",
    "  * Size --> Size variable have to be clean, remove the M,K and impute the 'Varies with divice\n",
    "  * Installs --> clean Installs variable by reomving '+'\n",
    "  * Price --> clean Price variable,have to be convert Object DataType to Numeric datatype\n",
    "  * Rating --> we should remove nan\n",
    "  * Genres --> have to drop Genred variable\n",
    "  * Content Rating --> have to encode the data for mmodel bulding\n",
    "  * Last Updated --> have to convert to datatime datatype\n",
    "  * Current Ver --> have to drop this column"
   ]
  },
  {
   "cell_type": "markdown",
   "id": "01ec5504-e056-4994-89c8-092f3607cb97",
   "metadata": {
    "scrolled": true
   },
   "source": []
  },
  {
   "cell_type": "markdown",
   "id": "3b85bb6d-5935-4aea-ae15-3f9b7a1180c0",
   "metadata": {},
   "source": [
    "<font  style = \"font-weight: bold;  font-size:1.9em;\">4. Check if there are any duplicate records in the dataset? if any drop them"
   ]
  },
  {
   "cell_type": "code",
   "execution_count": 10,
   "id": "5076f485-bae1-4994-8181-91b932c6652b",
   "metadata": {},
   "outputs": [
    {
     "data": {
      "text/plain": [
       "483"
      ]
     },
     "execution_count": 10,
     "metadata": {},
     "output_type": "execute_result"
    }
   ],
   "source": [
    "# checking for Duplicates\n",
    "df.duplicated().sum()"
   ]
  },
  {
   "cell_type": "code",
   "execution_count": 11,
   "id": "cf83db4c-fecc-4ac3-b410-17af9385e028",
   "metadata": {},
   "outputs": [
    {
     "data": {
      "text/plain": [
       "(10358, 13)"
      ]
     },
     "execution_count": 11,
     "metadata": {},
     "output_type": "execute_result"
    }
   ],
   "source": [
    "# Droping Duplicate values\n",
    "df.drop_duplicates(keep = 'first', inplace = True)\n",
    "df.shape"
   ]
  },
  {
   "cell_type": "code",
   "execution_count": 12,
   "id": "adf9a9b0-a5ae-45f8-a309-18a5d070554c",
   "metadata": {},
   "outputs": [
    {
     "data": {
      "text/plain": [
       "0"
      ]
     },
     "execution_count": 12,
     "metadata": {},
     "output_type": "execute_result"
    }
   ],
   "source": [
    "# checking if there are any duplicates presesent\n",
    "df.duplicated().sum()"
   ]
  },
  {
   "cell_type": "markdown",
   "id": "df437abf-15e4-483a-8b48-8f5c61752af2",
   "metadata": {},
   "source": [
    "successfully removed duplicates"
   ]
  },
  {
   "cell_type": "markdown",
   "id": "f6430d54-678e-43c2-897e-b8c8423acb5b",
   "metadata": {},
   "source": [
    "<font  style = \"font-weight: bold; font-size:1.9em;\">5. Check the unique categories of the column 'Category', Is there any invalid category? If yes, drop them."
   ]
  },
  {
   "cell_type": "code",
   "execution_count": 13,
   "id": "61359a96-51fd-4027-9df6-771751cb1d70",
   "metadata": {},
   "outputs": [
    {
     "data": {
      "text/plain": [
       "array(['ART_AND_DESIGN', 'AUTO_AND_VEHICLES', 'BEAUTY',\n",
       "       'BOOKS_AND_REFERENCE', 'BUSINESS', 'COMICS', 'COMMUNICATION',\n",
       "       'DATING', 'EDUCATION', 'ENTERTAINMENT', 'EVENTS', 'FINANCE',\n",
       "       'FOOD_AND_DRINK', 'HEALTH_AND_FITNESS', 'HOUSE_AND_HOME',\n",
       "       'LIBRARIES_AND_DEMO', 'LIFESTYLE', 'GAME', 'FAMILY', 'MEDICAL',\n",
       "       'SOCIAL', 'SHOPPING', 'PHOTOGRAPHY', 'SPORTS', 'TRAVEL_AND_LOCAL',\n",
       "       'TOOLS', 'PERSONALIZATION', 'PRODUCTIVITY', 'PARENTING', 'WEATHER',\n",
       "       'VIDEO_PLAYERS', 'NEWS_AND_MAGAZINES', 'MAPS_AND_NAVIGATION',\n",
       "       '1.9'], dtype=object)"
      ]
     },
     "execution_count": 13,
     "metadata": {},
     "output_type": "execute_result"
    }
   ],
   "source": [
    "df['Category'].unique()"
   ]
  },
  {
   "cell_type": "code",
   "execution_count": 14,
   "id": "079628f2-c3b4-419c-afa8-58f1ad5e3752",
   "metadata": {},
   "outputs": [
    {
     "data": {
      "text/plain": [
       "Category\n",
       "FAMILY                 1943\n",
       "GAME                   1121\n",
       "TOOLS                   843\n",
       "BUSINESS                427\n",
       "MEDICAL                 408\n",
       "PRODUCTIVITY            407\n",
       "PERSONALIZATION         388\n",
       "LIFESTYLE               373\n",
       "COMMUNICATION           366\n",
       "FINANCE                 360\n",
       "SPORTS                  351\n",
       "PHOTOGRAPHY             322\n",
       "HEALTH_AND_FITNESS      306\n",
       "SOCIAL                  280\n",
       "NEWS_AND_MAGAZINES      264\n",
       "TRAVEL_AND_LOCAL        237\n",
       "BOOKS_AND_REFERENCE     230\n",
       "SHOPPING                224\n",
       "DATING                  196\n",
       "VIDEO_PLAYERS           175\n",
       "MAPS_AND_NAVIGATION     137\n",
       "EDUCATION               130\n",
       "FOOD_AND_DRINK          124\n",
       "ENTERTAINMENT           111\n",
       "AUTO_AND_VEHICLES        85\n",
       "LIBRARIES_AND_DEMO       85\n",
       "WEATHER                  82\n",
       "HOUSE_AND_HOME           80\n",
       "ART_AND_DESIGN           65\n",
       "EVENTS                   64\n",
       "PARENTING                60\n",
       "COMICS                   60\n",
       "BEAUTY                   53\n",
       "1.9                       1\n",
       "Name: count, dtype: int64"
      ]
     },
     "execution_count": 14,
     "metadata": {},
     "output_type": "execute_result"
    }
   ],
   "source": [
    "# there is a invalid category and that is 1.9\n",
    "df['Category'].value_counts()"
   ]
  },
  {
   "cell_type": "code",
   "execution_count": 15,
   "id": "b9a79820-55cc-465e-91ce-eb4aaaba04ee",
   "metadata": {},
   "outputs": [],
   "source": [
    "# dropping 1.9 value \n",
    "df.drop(df[df['Category'] == '1.9'].index,inplace = True)"
   ]
  },
  {
   "cell_type": "code",
   "execution_count": 16,
   "id": "75f40756-e9ff-4bce-bae6-95dd51b8a764",
   "metadata": {},
   "outputs": [],
   "source": [
    "\n",
    "df['Category'] = df['Category'].astype('object')"
   ]
  },
  {
   "cell_type": "code",
   "execution_count": 17,
   "id": "c3199761-c3ea-48dd-941f-b5e6aafbe42e",
   "metadata": {},
   "outputs": [
    {
     "data": {
      "text/plain": [
       "array(['ART_AND_DESIGN', 'AUTO_AND_VEHICLES', 'BEAUTY',\n",
       "       'BOOKS_AND_REFERENCE', 'BUSINESS', 'COMICS', 'COMMUNICATION',\n",
       "       'DATING', 'EDUCATION', 'ENTERTAINMENT', 'EVENTS', 'FINANCE',\n",
       "       'FOOD_AND_DRINK', 'HEALTH_AND_FITNESS', 'HOUSE_AND_HOME',\n",
       "       'LIBRARIES_AND_DEMO', 'LIFESTYLE', 'GAME', 'FAMILY', 'MEDICAL',\n",
       "       'SOCIAL', 'SHOPPING', 'PHOTOGRAPHY', 'SPORTS', 'TRAVEL_AND_LOCAL',\n",
       "       'TOOLS', 'PERSONALIZATION', 'PRODUCTIVITY', 'PARENTING', 'WEATHER',\n",
       "       'VIDEO_PLAYERS', 'NEWS_AND_MAGAZINES', 'MAPS_AND_NAVIGATION'],\n",
       "      dtype=object)"
      ]
     },
     "execution_count": 17,
     "metadata": {},
     "output_type": "execute_result"
    }
   ],
   "source": [
    "df['Category'].unique()"
   ]
  },
  {
   "cell_type": "code",
   "execution_count": null,
   "id": "d4f04867-3e02-4f7e-9a93-13aa4a7d39b3",
   "metadata": {},
   "outputs": [],
   "source": []
  },
  {
   "cell_type": "markdown",
   "id": "1a52801d-7786-4d9b-a084-759183628cb3",
   "metadata": {},
   "source": [
    "<font  style = \"font-weight: bold; ; font-size:1.9em;\"> 6. Check if there are missing values present in the column Rating, If any? drop them and and create a new column as 'Rating_category' by converting ratings to high and low categories(>3.5 is high rest low))"
   ]
  },
  {
   "cell_type": "code",
   "execution_count": 18,
   "id": "a95b177a-ed9b-4d04-9e3b-0a3b54d08bba",
   "metadata": {
    "scrolled": true
   },
   "outputs": [
    {
     "data": {
      "text/plain": [
       "1465"
      ]
     },
     "execution_count": 18,
     "metadata": {},
     "output_type": "execute_result"
    }
   ],
   "source": [
    "# checking  is there are any null values present in Rating Column\n",
    "df['Rating'].isnull().sum()"
   ]
  },
  {
   "cell_type": "code",
   "execution_count": 19,
   "id": "2a46006a-d20c-4b1e-b803-19b76b03ca4f",
   "metadata": {},
   "outputs": [],
   "source": [
    "# dropping the null values from Rating Column\n",
    "df.dropna(subset = ['Rating'],inplace = True)\n"
   ]
  },
  {
   "cell_type": "code",
   "execution_count": 20,
   "id": "984fdeed-8fc0-4194-b5a8-70f39e33611d",
   "metadata": {},
   "outputs": [
    {
     "data": {
      "text/plain": [
       "App               0\n",
       "Category          0\n",
       "Rating            0\n",
       "Reviews           0\n",
       "Size              0\n",
       "Installs          0\n",
       "Type              0\n",
       "Price             0\n",
       "Content Rating    0\n",
       "Genres            0\n",
       "Last Updated      0\n",
       "Current Ver       4\n",
       "Android Ver       2\n",
       "dtype: int64"
      ]
     },
     "execution_count": 20,
     "metadata": {},
     "output_type": "execute_result"
    }
   ],
   "source": [
    "df.isnull().sum()"
   ]
  },
  {
   "cell_type": "code",
   "execution_count": null,
   "id": "35f3cb22-bd1f-47be-9f99-3905ef99e9f1",
   "metadata": {},
   "outputs": [],
   "source": []
  },
  {
   "cell_type": "code",
   "execution_count": 21,
   "id": "d52c578e-d631-42b4-8e2a-70e7556614a1",
   "metadata": {},
   "outputs": [],
   "source": [
    "# creating New column 'Rating_category' with values High if raring is grater than 3.5, and if less then Low \n",
    "df['Rating_category']= np.where(df['Rating'] > 3.5, 'High','Low')"
   ]
  },
  {
   "cell_type": "code",
   "execution_count": 22,
   "id": "078748b2-f406-42d5-b081-d3a4a0f2dc68",
   "metadata": {},
   "outputs": [
    {
     "data": {
      "text/plain": [
       "array(['High', 'Low'], dtype=object)"
      ]
     },
     "execution_count": 22,
     "metadata": {},
     "output_type": "execute_result"
    }
   ],
   "source": [
    "df['Rating_category'].unique()"
   ]
  },
  {
   "cell_type": "code",
   "execution_count": 23,
   "id": "e4fd9378-4d00-42d6-86e2-9aeea9829ec7",
   "metadata": {},
   "outputs": [
    {
     "data": {
      "text/plain": [
       "App                 object\n",
       "Category            object\n",
       "Rating             float64\n",
       "Reviews             object\n",
       "Size                object\n",
       "Installs            object\n",
       "Type                object\n",
       "Price               object\n",
       "Content Rating      object\n",
       "Genres              object\n",
       "Last Updated        object\n",
       "Current Ver         object\n",
       "Android Ver         object\n",
       "Rating_category     object\n",
       "dtype: object"
      ]
     },
     "execution_count": 23,
     "metadata": {},
     "output_type": "execute_result"
    }
   ],
   "source": [
    "df.dtypes"
   ]
  },
  {
   "cell_type": "code",
   "execution_count": null,
   "id": "d8d8c424-69d5-4aef-a6ee-63683774b903",
   "metadata": {},
   "outputs": [],
   "source": []
  },
  {
   "cell_type": "markdown",
   "id": "2bdc5238-703f-4359-9d64-20978a3982c1",
   "metadata": {},
   "source": [
    "<font  style = \"font-weight: bold; font-size:1.9em;\"> 7. Check the distribution of the newly created column 'Rating_category' and comment on the distribution."
   ]
  },
  {
   "cell_type": "code",
   "execution_count": 24,
   "id": "19f2a944-c989-4039-a8c6-9432cc8a0c67",
   "metadata": {},
   "outputs": [
    {
     "data": {
      "text/plain": [
       "Rating_category\n",
       "High    8012\n",
       "Low      880\n",
       "Name: count, dtype: int64"
      ]
     },
     "execution_count": 24,
     "metadata": {},
     "output_type": "execute_result"
    }
   ],
   "source": [
    "Plotting = df['Rating_category'].value_counts()\n",
    "Plotting"
   ]
  },
  {
   "cell_type": "code",
   "execution_count": 25,
   "id": "23c28223-5025-42f2-8e10-ca589b4f6a23",
   "metadata": {},
   "outputs": [],
   "source": [
    "# converting output value to Percentage(%)"
   ]
  },
  {
   "cell_type": "code",
   "execution_count": 26,
   "id": "788f6ae2-e257-48b8-b4b5-deced993dc0d",
   "metadata": {},
   "outputs": [],
   "source": [
    "High_Rating = df['Rating_category'].value_counts()['High'] / df['Rating_category'].shape[0] * 100\n",
    "Low_Rating  = df['Rating_category'].value_counts()['Low'] / df['Rating_category'].shape[0] *100"
   ]
  },
  {
   "cell_type": "code",
   "execution_count": 27,
   "id": "c0c606ac-f2d0-4bbb-ae22-29ee55896aa7",
   "metadata": {},
   "outputs": [
    {
     "name": "stdout",
     "output_type": "stream",
     "text": [
      "High :  90.10346378767431\n",
      "Low :  9.896536212325687\n"
     ]
    }
   ],
   "source": [
    "print(\"High : \",High_Rating)\n",
    "print(\"Low : \",Low_Rating)"
   ]
  },
  {
   "cell_type": "code",
   "execution_count": 28,
   "id": "33d824e1-d0a5-4d6e-81f1-5c71e9cdd015",
   "metadata": {},
   "outputs": [],
   "source": [
    "Names = 'High','Low'"
   ]
  },
  {
   "cell_type": "code",
   "execution_count": 29,
   "id": "41370402-cfa8-4c95-9851-cea949b0baf5",
   "metadata": {},
   "outputs": [
    {
     "data": {
      "image/png": "[encoded data removed]",
      "text/plain": [
       "<Figure size 640x480 with 1 Axes>"
      ]
     },
     "metadata": {},
     "output_type": "display_data"
    }
   ],
   "source": [
    "# making a pie chart to see the distribution of data\n",
    "plt.pie(Plotting, labels = Names,colors =[\"g\",\"r\"], autopct=\"%1.2f%%\",explode = (0.2,0),shadow=True)\n",
    "plt.show()"
   ]
  },
  {
   "cell_type": "markdown",
   "id": "d542e3d3-e93d-4df4-888e-535eb4cde18d",
   "metadata": {},
   "source": [
    "App Rating are more than 3.5 Rating is (90%),\n",
    "App Rating are less than 3.5 Rating is (10%),least people likes.it means most apps have good Rating"
   ]
  },
  {
   "cell_type": "code",
   "execution_count": null,
   "id": "f7a0cda7-e2a8-4426-bb1d-720533b83b4c",
   "metadata": {},
   "outputs": [],
   "source": []
  },
  {
   "cell_type": "markdown",
   "id": "aac78a7f-3e8b-421b-859e-66a2eac10461",
   "metadata": {},
   "source": [
    "<font  style = \"font-weight: bold;  font-size:1.9em;\"> 8. Convert the column \"Reviews'' to numeric data type and check the presence of outliers in the column and handle the outliers using a transformation approach.(Hint: Use log transformation))"
   ]
  },
  {
   "cell_type": "code",
   "execution_count": 30,
   "id": "63daa210-a906-4ac7-a693-779f2ccd4438",
   "metadata": {},
   "outputs": [],
   "source": [
    "df1 = df.copy()"
   ]
  },
  {
   "cell_type": "code",
   "execution_count": 31,
   "id": "72640c5a-47a6-488b-83c9-2c4d5a2c8c4c",
   "metadata": {},
   "outputs": [],
   "source": [
    "# there was a 1 value to be clean as i done below\n",
    "df1['Reviews'] = df1['Reviews'].replace({'3.0M':3000000},regex = True).astype('int')"
   ]
  },
  {
   "cell_type": "code",
   "execution_count": 32,
   "id": "2463b263-8c48-4b2b-9260-26ecd118c94e",
   "metadata": {},
   "outputs": [
    {
     "name": "stderr",
     "output_type": "stream",
     "text": [
      "C:\\Users\\ABHISHEK S R\\AppData\\Roaming\\Python\\Python311\\site-packages\\seaborn\\categorical.py:632: FutureWarning: SeriesGroupBy.grouper is deprecated and will be removed in a future version of pandas.\n",
      "  positions = grouped.grouper.result_index.to_numpy(dtype=float)\n"
     ]
    },
    {
     "data": {
      "text/plain": [
       "<AxesSubplot: ylabel='Reviews'>"
      ]
     },
     "execution_count": 32,
     "metadata": {},
     "output_type": "execute_result"
    },
    {
     "data": {
      "image/png": "[encoded data removed]",
      "text/plain": [
       "<Figure size 640x480 with 1 Axes>"
      ]
     },
     "metadata": {},
     "output_type": "display_data"
    }
   ],
   "source": [
    "sns.boxplot(df1['Reviews'])"
   ]
  },
  {
   "cell_type": "code",
   "execution_count": 33,
   "id": "d174f605-3b85-43f2-9b60-197331394ae5",
   "metadata": {},
   "outputs": [],
   "source": [
    "df1['Reviews']=pd.to_numeric(df1['Reviews'])"
   ]
  },
  {
   "cell_type": "code",
   "execution_count": 34,
   "id": "55efbb8e-5ea1-4e81-9872-f4760d5916f5",
   "metadata": {},
   "outputs": [],
   "source": [
    "# removing outliers using Z score Method"
   ]
  },
  {
   "cell_type": "code",
   "execution_count": 35,
   "id": "cd2fd143-2235-4759-bc0c-4b7865d7917d",
   "metadata": {},
   "outputs": [
    {
     "data": {
      "text/plain": [
       "0       -0.162688\n",
       "1       -0.162410\n",
       "2       -0.132619\n",
       "3       -0.088512\n",
       "4       -0.162410\n",
       "           ...   \n",
       "10834   -0.162740\n",
       "10836   -0.162730\n",
       "10837   -0.162741\n",
       "10839   -0.162704\n",
       "10840   -0.025634\n",
       "Name: Reviews, Length: 8892, dtype: float64"
      ]
     },
     "execution_count": 35,
     "metadata": {},
     "output_type": "execute_result"
    }
   ],
   "source": [
    "df_mean = df1['Reviews'].mean()\n",
    "df_std = df1['Reviews'].std()\n",
    "z = (df1['Reviews'] - df_mean)/df_std\n",
    "z"
   ]
  },
  {
   "cell_type": "code",
   "execution_count": 36,
   "id": "9c8545d3-c05d-4b0b-8d04-c4098fe128db",
   "metadata": {},
   "outputs": [],
   "source": [
    "threshold=3\n",
    "df1=df1[z<threshold]"
   ]
  },
  {
   "cell_type": "code",
   "execution_count": 37,
   "id": "39060a4b-e475-4456-ab5d-58ccf6802bf3",
   "metadata": {},
   "outputs": [
    {
     "data": {
      "text/plain": [
       "8800"
      ]
     },
     "execution_count": 37,
     "metadata": {},
     "output_type": "execute_result"
    }
   ],
   "source": [
    "len(df1)"
   ]
  },
  {
   "cell_type": "markdown",
   "id": "6eee9d88-fa80-46e9-bd3a-28c6a4f2cfa7",
   "metadata": {},
   "source": [
    "<font  style = \"font-weight: bold;  font-size:1.9em;\"> 9.  The column 'Size' contains alphanumeric values, treat the non numeric data and convert the column into suitable data type. (hint: Replace M with 1 million and K with 1 thousand, and drop the entries where size='Varies with device')\n"
   ]
  },
  {
   "cell_type": "code",
   "execution_count": 38,
   "id": "16da40b6-441d-43fd-b027-f27b5095b4d7",
   "metadata": {},
   "outputs": [],
   "source": [
    "# i droped a 'Varies with device' for model building\n",
    "df1.drop(df1[df1['Size'] == 'Varies with device'].index,inplace = True)"
   ]
  },
  {
   "cell_type": "code",
   "execution_count": null,
   "id": "448bf90b-7e1c-4c6f-819a-2a02825b7743",
   "metadata": {},
   "outputs": [],
   "source": []
  },
  {
   "cell_type": "code",
   "execution_count": 39,
   "id": "e569bbe9-bc7d-4eaa-9c4d-5241521863ea",
   "metadata": {},
   "outputs": [],
   "source": [
    "# replacing all 'k', 'M' from the Size column, i cleaned as you can see\n",
    "df1['Size'] = df1['Size'].replace({'k': '*1000','M': '*1000000'},regex = True).map(eval)"
   ]
  },
  {
   "cell_type": "code",
   "execution_count": 40,
   "id": "79e721aa-e29e-4c14-b9ea-092b9b072aed",
   "metadata": {},
   "outputs": [],
   "source": [
    "df1[\"Size\"] = df1[\"Size\"].astype(\"float64\")"
   ]
  },
  {
   "cell_type": "code",
   "execution_count": 41,
   "id": "f8361cc1-8894-4614-af4e-007becbcfb1d",
   "metadata": {},
   "outputs": [
    {
     "data": {
      "text/plain": [
       "App                 object\n",
       "Category            object\n",
       "Rating             float64\n",
       "Reviews              int32\n",
       "Size               float64\n",
       "Installs            object\n",
       "Type                object\n",
       "Price               object\n",
       "Content Rating      object\n",
       "Genres              object\n",
       "Last Updated        object\n",
       "Current Ver         object\n",
       "Android Ver         object\n",
       "Rating_category     object\n",
       "dtype: object"
      ]
     },
     "execution_count": 41,
     "metadata": {},
     "output_type": "execute_result"
    }
   ],
   "source": [
    "df1.dtypes"
   ]
  },
  {
   "cell_type": "markdown",
   "id": "58215213-cc85-4814-bcaf-d18087eeb958",
   "metadata": {},
   "source": [
    "<font  style = \"font-weight: bold;  font-size:1.9em;\">10. Check the column 'Installs', treat the unwanted characters and convert the column into a suitable data type. \r\n"
   ]
  },
  {
   "cell_type": "code",
   "execution_count": 42,
   "id": "388c52f4-0bbb-45ae-9bab-108d64316b33",
   "metadata": {},
   "outputs": [
    {
     "data": {
      "text/plain": [
       "0            10,000+\n",
       "1           500,000+\n",
       "2         5,000,000+\n",
       "3        50,000,000+\n",
       "4           100,000+\n",
       "            ...     \n",
       "10833         1,000+\n",
       "10834           500+\n",
       "10836         5,000+\n",
       "10837           100+\n",
       "10840    10,000,000+\n",
       "Name: Installs, Length: 7377, dtype: object"
      ]
     },
     "execution_count": 42,
     "metadata": {},
     "output_type": "execute_result"
    }
   ],
   "source": [
    "df1['Installs']"
   ]
  },
  {
   "cell_type": "code",
   "execution_count": 43,
   "id": "b6e8328e-ea58-46c6-a0b4-ea47061b34f4",
   "metadata": {},
   "outputs": [],
   "source": [
    "# cleaning Installs column \n",
    "df1['Installs'] = df1['Installs'].replace({'\\,': '', '\\+': ''},regex = True)\n",
    "df1['Installs'] = df1['Installs'].astype('int')"
   ]
  },
  {
   "cell_type": "code",
   "execution_count": 44,
   "id": "23cd5f68-b0d3-49a4-aa5e-012fadb457bc",
   "metadata": {},
   "outputs": [
    {
     "data": {
      "text/plain": [
       "App                 object\n",
       "Category            object\n",
       "Rating             float64\n",
       "Reviews              int32\n",
       "Size               float64\n",
       "Installs             int32\n",
       "Type                object\n",
       "Price               object\n",
       "Content Rating      object\n",
       "Genres              object\n",
       "Last Updated        object\n",
       "Current Ver         object\n",
       "Android Ver         object\n",
       "Rating_category     object\n",
       "dtype: object"
      ]
     },
     "execution_count": 44,
     "metadata": {},
     "output_type": "execute_result"
    }
   ],
   "source": [
    "df1.dtypes"
   ]
  },
  {
   "cell_type": "markdown",
   "id": "17dce518-0123-4ab4-9e7e-0c9b9bf78a8b",
   "metadata": {},
   "source": [
    "<font  style = \"font-weight: bold;  font-size:1.9em;\">11. Check the column 'Price' , remove the unwanted characters and convert the column into a suitable data type. "
   ]
  },
  {
   "cell_type": "code",
   "execution_count": 45,
   "id": "90215aa3-2ece-4f3f-8bf6-398b0dda8225",
   "metadata": {},
   "outputs": [
    {
     "data": {
      "text/plain": [
       "array(['0', '$4.99', '$6.99', '$7.99', '$3.99', '$5.99', '$2.99', '$1.99',\n",
       "       '$9.99', '$0.99', '$9.00', '$5.49', '$10.00', '$24.99', '$11.99',\n",
       "       '$79.99', '$16.99', '$14.99', '$29.99', '$12.99', '$3.49',\n",
       "       '$10.99', '$7.49', '$1.50', '$19.99', '$15.99', '$33.99', '$39.99',\n",
       "       '$2.49', '$4.49', '$1.70', '$1.49', '$3.88', '$399.99', '$17.99',\n",
       "       '$400.00', '$3.02', '$1.76', '$4.84', '$4.77', '$1.61', '$1.59',\n",
       "       '$6.49', '$1.29', '$299.99', '$379.99', '$37.99', '$18.99',\n",
       "       '$389.99', '$8.49', '$1.75', '$14.00', '$2.00', '$3.08', '$2.59',\n",
       "       '$19.40', '$15.46', '$8.99', '$3.04', '$13.99', '$4.29', '$3.28',\n",
       "       '$4.60', '$1.00', '$2.90', '$1.97', '$2.56', '$1.20'], dtype=object)"
      ]
     },
     "execution_count": 45,
     "metadata": {},
     "output_type": "execute_result"
    }
   ],
   "source": [
    "df1['Price'].unique()"
   ]
  },
  {
   "cell_type": "code",
   "execution_count": 46,
   "id": "a92bf3b2-f232-4efb-a402-f5b7d1827334",
   "metadata": {},
   "outputs": [],
   "source": [
    "# cleaning the Price column and converting Object DataType to float datatype\n",
    "df1['Price'] = df1['Price'].replace({'\\$' : ''},regex = True)\n",
    "df1['Price'] = df1['Price'].astype('float')"
   ]
  },
  {
   "cell_type": "code",
   "execution_count": 47,
   "id": "b3c7abed-92b9-40b2-b07c-41946e2b95fc",
   "metadata": {},
   "outputs": [
    {
     "data": {
      "text/plain": [
       "array([  0.  ,   4.99,   6.99,   7.99,   3.99,   5.99,   2.99,   1.99,\n",
       "         9.99,   0.99,   9.  ,   5.49,  10.  ,  24.99,  11.99,  79.99,\n",
       "        16.99,  14.99,  29.99,  12.99,   3.49,  10.99,   7.49,   1.5 ,\n",
       "        19.99,  15.99,  33.99,  39.99,   2.49,   4.49,   1.7 ,   1.49,\n",
       "         3.88, 399.99,  17.99, 400.  ,   3.02,   1.76,   4.84,   4.77,\n",
       "         1.61,   1.59,   6.49,   1.29, 299.99, 379.99,  37.99,  18.99,\n",
       "       389.99,   8.49,   1.75,  14.  ,   2.  ,   3.08,   2.59,  19.4 ,\n",
       "        15.46,   8.99,   3.04,  13.99,   4.29,   3.28,   4.6 ,   1.  ,\n",
       "         2.9 ,   1.97,   2.56,   1.2 ])"
      ]
     },
     "execution_count": 47,
     "metadata": {},
     "output_type": "execute_result"
    }
   ],
   "source": [
    "df1['Price'].unique()"
   ]
  },
  {
   "cell_type": "code",
   "execution_count": 48,
   "id": "0b40d515-a257-48a4-8f0b-0a6d07d1e31c",
   "metadata": {},
   "outputs": [
    {
     "data": {
      "text/plain": [
       "dtype('float64')"
      ]
     },
     "execution_count": 48,
     "metadata": {},
     "output_type": "execute_result"
    }
   ],
   "source": [
    "df1['Price'].dtype"
   ]
  },
  {
   "cell_type": "code",
   "execution_count": null,
   "id": "7d24f9b6-0105-4b37-8770-2253376c3aa7",
   "metadata": {},
   "outputs": [],
   "source": []
  },
  {
   "cell_type": "markdown",
   "id": "235cb728-812d-43d9-bd35-5a98a2d5b738",
   "metadata": {},
   "source": [
    "<font  style = \"font-weight: bold;  font-size:1.9em;\">12. Drop the columns which you think redundant for the analysis.(suggestion: drop column 'rating', since we created a new feature from it (i.e. rating_category) and the columns 'App', 'Rating' ,'Genres','Last Updated', 'Current Ver','Android Ver' columns since which are redundant for our analysis)\r\n"
   ]
  },
  {
   "cell_type": "code",
   "execution_count": 49,
   "id": "ed5d2a34-2568-489d-9a24-e7c3d2138b3f",
   "metadata": {},
   "outputs": [],
   "source": [
    "# dropping unwanted columns\n",
    "redundant_columns = ['App', 'Rating' ,'Genres','Last Updated', 'Current Ver','Android Ver']"
   ]
  },
  {
   "cell_type": "code",
   "execution_count": 50,
   "id": "c92334ff-0a3c-4ca5-bc9f-1670c0282c1a",
   "metadata": {},
   "outputs": [],
   "source": [
    "df1.drop(redundant_columns, axis = 1, inplace =True)"
   ]
  },
  {
   "cell_type": "code",
   "execution_count": 51,
   "id": "69c212b8-839d-4ba7-a159-5ebcc1997968",
   "metadata": {},
   "outputs": [
    {
     "name": "stdout",
     "output_type": "stream",
     "text": [
      "<class 'pandas.core.frame.DataFrame'>\n",
      "Index: 7377 entries, 0 to 10840\n",
      "Data columns (total 8 columns):\n",
      " #   Column           Non-Null Count  Dtype  \n",
      "---  ------           --------------  -----  \n",
      " 0   Category         7377 non-null   object \n",
      " 1   Reviews          7377 non-null   int32  \n",
      " 2   Size             7377 non-null   float64\n",
      " 3   Installs         7377 non-null   int32  \n",
      " 4   Type             7377 non-null   object \n",
      " 5   Price            7377 non-null   float64\n",
      " 6   Content Rating   7377 non-null   object \n",
      " 7   Rating_category  7377 non-null   object \n",
      "dtypes: float64(2), int32(2), object(4)\n",
      "memory usage: 461.1+ KB\n"
     ]
    }
   ],
   "source": [
    "df1.info()"
   ]
  },
  {
   "cell_type": "code",
   "execution_count": 52,
   "id": "66797421-0cae-4afd-98df-040537a8e814",
   "metadata": {},
   "outputs": [
    {
     "data": {
      "text/plain": [
       "Category           0\n",
       "Reviews            0\n",
       "Size               0\n",
       "Installs           0\n",
       "Type               0\n",
       "Price              0\n",
       "Content Rating     0\n",
       "Rating_category    0\n",
       "dtype: int64"
      ]
     },
     "execution_count": 52,
     "metadata": {},
     "output_type": "execute_result"
    }
   ],
   "source": [
    "df1.isnull().sum()"
   ]
  },
  {
   "cell_type": "code",
   "execution_count": null,
   "id": "7bf95293-0a36-453e-a54a-89b33c0e5e11",
   "metadata": {},
   "outputs": [],
   "source": []
  },
  {
   "cell_type": "markdown",
   "id": "c41c9ee4-389b-49c1-9919-96957093ebe2",
   "metadata": {},
   "source": [
    "<font  style = \"font-weight: bold;  font-size:1.9em;\">13. Encode the categorical columns.  "
   ]
  },
  {
   "cell_type": "code",
   "execution_count": 53,
   "id": "c3ef2dcc-6977-4801-9014-8362ee7189f0",
   "metadata": {},
   "outputs": [
    {
     "data": {
      "text/html": [
       "<div>\n",
       "<style scoped>\n",
       "    .dataframe tbody tr th:only-of-type {\n",
       "        vertical-align: middle;\n",
       "    }\n",
       "\n",
       "    .dataframe tbody tr th {\n",
       "        vertical-align: top;\n",
       "    }\n",
       "\n",
       "    .dataframe thead th {\n",
       "        text-align: right;\n",
       "    }\n",
       "</style>\n",
       "<table border=\"1\" class=\"dataframe\">\n",
       "  <thead>\n",
       "    <tr style=\"text-align: right;\">\n",
       "      <th></th>\n",
       "      <th>Category</th>\n",
       "      <th>Type</th>\n",
       "      <th>Content Rating</th>\n",
       "      <th>Rating_category</th>\n",
       "    </tr>\n",
       "  </thead>\n",
       "  <tbody>\n",
       "    <tr>\n",
       "      <th>count</th>\n",
       "      <td>7377</td>\n",
       "      <td>7377</td>\n",
       "      <td>7377</td>\n",
       "      <td>7377</td>\n",
       "    </tr>\n",
       "    <tr>\n",
       "      <th>unique</th>\n",
       "      <td>33</td>\n",
       "      <td>2</td>\n",
       "      <td>6</td>\n",
       "      <td>2</td>\n",
       "    </tr>\n",
       "    <tr>\n",
       "      <th>top</th>\n",
       "      <td>FAMILY</td>\n",
       "      <td>Free</td>\n",
       "      <td>Everyone</td>\n",
       "      <td>High</td>\n",
       "    </tr>\n",
       "    <tr>\n",
       "      <th>freq</th>\n",
       "      <td>1585</td>\n",
       "      <td>6830</td>\n",
       "      <td>5928</td>\n",
       "      <td>6552</td>\n",
       "    </tr>\n",
       "  </tbody>\n",
       "</table>\n",
       "</div>"
      ],
      "text/plain": [
       "       Category  Type Content Rating Rating_category\n",
       "count      7377  7377           7377            7377\n",
       "unique       33     2              6               2\n",
       "top      FAMILY  Free       Everyone            High\n",
       "freq       1585  6830           5928            6552"
      ]
     },
     "execution_count": 53,
     "metadata": {},
     "output_type": "execute_result"
    }
   ],
   "source": [
    "df1.describe(include = 'O')"
   ]
  },
  {
   "cell_type": "code",
   "execution_count": 54,
   "id": "330b7c46-d30f-4915-af5f-aa77412b5329",
   "metadata": {},
   "outputs": [
    {
     "data": {
      "text/plain": [
       "array(['ART_AND_DESIGN', 'AUTO_AND_VEHICLES', 'BEAUTY',\n",
       "       'BOOKS_AND_REFERENCE', 'BUSINESS', 'COMICS', 'COMMUNICATION',\n",
       "       'DATING', 'EDUCATION', 'ENTERTAINMENT', 'EVENTS', 'FINANCE',\n",
       "       'FOOD_AND_DRINK', 'HEALTH_AND_FITNESS', 'HOUSE_AND_HOME',\n",
       "       'LIBRARIES_AND_DEMO', 'LIFESTYLE', 'GAME', 'FAMILY', 'MEDICAL',\n",
       "       'SOCIAL', 'SHOPPING', 'PHOTOGRAPHY', 'SPORTS', 'TRAVEL_AND_LOCAL',\n",
       "       'TOOLS', 'PERSONALIZATION', 'PRODUCTIVITY', 'PARENTING', 'WEATHER',\n",
       "       'VIDEO_PLAYERS', 'NEWS_AND_MAGAZINES', 'MAPS_AND_NAVIGATION'],\n",
       "      dtype=object)"
      ]
     },
     "execution_count": 54,
     "metadata": {},
     "output_type": "execute_result"
    }
   ],
   "source": [
    "df1['Category'].unique()"
   ]
  },
  {
   "cell_type": "code",
   "execution_count": 55,
   "id": "7190cb05-8bf6-4bbf-8252-16e4e2bdbbb9",
   "metadata": {},
   "outputs": [
    {
     "data": {
      "text/plain": [
       "array(['Free', 'Paid'], dtype=object)"
      ]
     },
     "execution_count": 55,
     "metadata": {},
     "output_type": "execute_result"
    }
   ],
   "source": [
    "df1['Type'].unique()"
   ]
  },
  {
   "cell_type": "code",
   "execution_count": 56,
   "id": "f423b533-202d-4f52-8653-d8187a0b50fc",
   "metadata": {},
   "outputs": [
    {
     "data": {
      "text/plain": [
       "array(['Everyone', 'Teen', 'Everyone 10+', 'Mature 17+',\n",
       "       'Adults only 18+', 'Unrated'], dtype=object)"
      ]
     },
     "execution_count": 56,
     "metadata": {},
     "output_type": "execute_result"
    }
   ],
   "source": [
    "df1['Content Rating'].unique()"
   ]
  },
  {
   "cell_type": "code",
   "execution_count": 57,
   "id": "9bc01fd6-47cc-4ef6-a48b-6ec7002ea5e9",
   "metadata": {
    "scrolled": true
   },
   "outputs": [
    {
     "data": {
      "text/plain": [
       "array(['High', 'Low'], dtype=object)"
      ]
     },
     "execution_count": 57,
     "metadata": {},
     "output_type": "execute_result"
    }
   ],
   "source": [
    "df1['Rating_category'].unique()"
   ]
  },
  {
   "cell_type": "code",
   "execution_count": 58,
   "id": "55a3440d-72fc-41c7-ad8c-fd1d42d0d7f5",
   "metadata": {},
   "outputs": [],
   "source": [
    "# get_dummies is used as a OneHotEncoding\n",
    "df1=pd.get_dummies(df1,columns=([\"Category\",\"Content Rating\"]))"
   ]
  },
  {
   "cell_type": "code",
   "execution_count": 59,
   "id": "b02135ad-876d-4980-bea9-5c4be6a79c00",
   "metadata": {},
   "outputs": [],
   "source": [
    "df1[\"Rating_category\"]=df1[\"Rating_category\"].apply(lambda x:1 if x==\"high\" else 0)\n",
    "df1['Type'] = df1['Type'].apply(lambda x:1 if x==\"Free\" else 0)"
   ]
  },
  {
   "cell_type": "code",
   "execution_count": 60,
   "id": "3b4716dd-22f8-44c3-abb6-07894dc38ac5",
   "metadata": {},
   "outputs": [
    {
     "data": {
      "text/html": [
       "<div>\n",
       "<style scoped>\n",
       "    .dataframe tbody tr th:only-of-type {\n",
       "        vertical-align: middle;\n",
       "    }\n",
       "\n",
       "    .dataframe tbody tr th {\n",
       "        vertical-align: top;\n",
       "    }\n",
       "\n",
       "    .dataframe thead th {\n",
       "        text-align: right;\n",
       "    }\n",
       "</style>\n",
       "<table border=\"1\" class=\"dataframe\">\n",
       "  <thead>\n",
       "    <tr style=\"text-align: right;\">\n",
       "      <th></th>\n",
       "      <th>Reviews</th>\n",
       "      <th>Size</th>\n",
       "      <th>Installs</th>\n",
       "      <th>Type</th>\n",
       "      <th>Price</th>\n",
       "      <th>Rating_category</th>\n",
       "      <th>Category_ART_AND_DESIGN</th>\n",
       "      <th>Category_AUTO_AND_VEHICLES</th>\n",
       "      <th>Category_BEAUTY</th>\n",
       "      <th>Category_BOOKS_AND_REFERENCE</th>\n",
       "      <th>...</th>\n",
       "      <th>Category_TOOLS</th>\n",
       "      <th>Category_TRAVEL_AND_LOCAL</th>\n",
       "      <th>Category_VIDEO_PLAYERS</th>\n",
       "      <th>Category_WEATHER</th>\n",
       "      <th>Content Rating_Adults only 18+</th>\n",
       "      <th>Content Rating_Everyone</th>\n",
       "      <th>Content Rating_Everyone 10+</th>\n",
       "      <th>Content Rating_Mature 17+</th>\n",
       "      <th>Content Rating_Teen</th>\n",
       "      <th>Content Rating_Unrated</th>\n",
       "    </tr>\n",
       "  </thead>\n",
       "  <tbody>\n",
       "    <tr>\n",
       "      <th>0</th>\n",
       "      <td>159</td>\n",
       "      <td>19000000.0</td>\n",
       "      <td>10000</td>\n",
       "      <td>1</td>\n",
       "      <td>0.0</td>\n",
       "      <td>0</td>\n",
       "      <td>True</td>\n",
       "      <td>False</td>\n",
       "      <td>False</td>\n",
       "      <td>False</td>\n",
       "      <td>...</td>\n",
       "      <td>False</td>\n",
       "      <td>False</td>\n",
       "      <td>False</td>\n",
       "      <td>False</td>\n",
       "      <td>False</td>\n",
       "      <td>True</td>\n",
       "      <td>False</td>\n",
       "      <td>False</td>\n",
       "      <td>False</td>\n",
       "      <td>False</td>\n",
       "    </tr>\n",
       "    <tr>\n",
       "      <th>1</th>\n",
       "      <td>967</td>\n",
       "      <td>14000000.0</td>\n",
       "      <td>500000</td>\n",
       "      <td>1</td>\n",
       "      <td>0.0</td>\n",
       "      <td>0</td>\n",
       "      <td>True</td>\n",
       "      <td>False</td>\n",
       "      <td>False</td>\n",
       "      <td>False</td>\n",
       "      <td>...</td>\n",
       "      <td>False</td>\n",
       "      <td>False</td>\n",
       "      <td>False</td>\n",
       "      <td>False</td>\n",
       "      <td>False</td>\n",
       "      <td>True</td>\n",
       "      <td>False</td>\n",
       "      <td>False</td>\n",
       "      <td>False</td>\n",
       "      <td>False</td>\n",
       "    </tr>\n",
       "    <tr>\n",
       "      <th>2</th>\n",
       "      <td>87510</td>\n",
       "      <td>8700000.0</td>\n",
       "      <td>5000000</td>\n",
       "      <td>1</td>\n",
       "      <td>0.0</td>\n",
       "      <td>0</td>\n",
       "      <td>True</td>\n",
       "      <td>False</td>\n",
       "      <td>False</td>\n",
       "      <td>False</td>\n",
       "      <td>...</td>\n",
       "      <td>False</td>\n",
       "      <td>False</td>\n",
       "      <td>False</td>\n",
       "      <td>False</td>\n",
       "      <td>False</td>\n",
       "      <td>True</td>\n",
       "      <td>False</td>\n",
       "      <td>False</td>\n",
       "      <td>False</td>\n",
       "      <td>False</td>\n",
       "    </tr>\n",
       "    <tr>\n",
       "      <th>3</th>\n",
       "      <td>215644</td>\n",
       "      <td>25000000.0</td>\n",
       "      <td>50000000</td>\n",
       "      <td>1</td>\n",
       "      <td>0.0</td>\n",
       "      <td>0</td>\n",
       "      <td>True</td>\n",
       "      <td>False</td>\n",
       "      <td>False</td>\n",
       "      <td>False</td>\n",
       "      <td>...</td>\n",
       "      <td>False</td>\n",
       "      <td>False</td>\n",
       "      <td>False</td>\n",
       "      <td>False</td>\n",
       "      <td>False</td>\n",
       "      <td>False</td>\n",
       "      <td>False</td>\n",
       "      <td>False</td>\n",
       "      <td>True</td>\n",
       "      <td>False</td>\n",
       "    </tr>\n",
       "    <tr>\n",
       "      <th>4</th>\n",
       "      <td>967</td>\n",
       "      <td>2800000.0</td>\n",
       "      <td>100000</td>\n",
       "      <td>1</td>\n",
       "      <td>0.0</td>\n",
       "      <td>0</td>\n",
       "      <td>True</td>\n",
       "      <td>False</td>\n",
       "      <td>False</td>\n",
       "      <td>False</td>\n",
       "      <td>...</td>\n",
       "      <td>False</td>\n",
       "      <td>False</td>\n",
       "      <td>False</td>\n",
       "      <td>False</td>\n",
       "      <td>False</td>\n",
       "      <td>True</td>\n",
       "      <td>False</td>\n",
       "      <td>False</td>\n",
       "      <td>False</td>\n",
       "      <td>False</td>\n",
       "    </tr>\n",
       "    <tr>\n",
       "      <th>...</th>\n",
       "      <td>...</td>\n",
       "      <td>...</td>\n",
       "      <td>...</td>\n",
       "      <td>...</td>\n",
       "      <td>...</td>\n",
       "      <td>...</td>\n",
       "      <td>...</td>\n",
       "      <td>...</td>\n",
       "      <td>...</td>\n",
       "      <td>...</td>\n",
       "      <td>...</td>\n",
       "      <td>...</td>\n",
       "      <td>...</td>\n",
       "      <td>...</td>\n",
       "      <td>...</td>\n",
       "      <td>...</td>\n",
       "      <td>...</td>\n",
       "      <td>...</td>\n",
       "      <td>...</td>\n",
       "      <td>...</td>\n",
       "      <td>...</td>\n",
       "    </tr>\n",
       "    <tr>\n",
       "      <th>10833</th>\n",
       "      <td>44</td>\n",
       "      <td>619000.0</td>\n",
       "      <td>1000</td>\n",
       "      <td>1</td>\n",
       "      <td>0.0</td>\n",
       "      <td>0</td>\n",
       "      <td>False</td>\n",
       "      <td>False</td>\n",
       "      <td>False</td>\n",
       "      <td>True</td>\n",
       "      <td>...</td>\n",
       "      <td>False</td>\n",
       "      <td>False</td>\n",
       "      <td>False</td>\n",
       "      <td>False</td>\n",
       "      <td>False</td>\n",
       "      <td>True</td>\n",
       "      <td>False</td>\n",
       "      <td>False</td>\n",
       "      <td>False</td>\n",
       "      <td>False</td>\n",
       "    </tr>\n",
       "    <tr>\n",
       "      <th>10834</th>\n",
       "      <td>7</td>\n",
       "      <td>2600000.0</td>\n",
       "      <td>500</td>\n",
       "      <td>1</td>\n",
       "      <td>0.0</td>\n",
       "      <td>0</td>\n",
       "      <td>False</td>\n",
       "      <td>False</td>\n",
       "      <td>False</td>\n",
       "      <td>False</td>\n",
       "      <td>...</td>\n",
       "      <td>False</td>\n",
       "      <td>False</td>\n",
       "      <td>False</td>\n",
       "      <td>False</td>\n",
       "      <td>False</td>\n",
       "      <td>True</td>\n",
       "      <td>False</td>\n",
       "      <td>False</td>\n",
       "      <td>False</td>\n",
       "      <td>False</td>\n",
       "    </tr>\n",
       "    <tr>\n",
       "      <th>10836</th>\n",
       "      <td>38</td>\n",
       "      <td>53000000.0</td>\n",
       "      <td>5000</td>\n",
       "      <td>1</td>\n",
       "      <td>0.0</td>\n",
       "      <td>0</td>\n",
       "      <td>False</td>\n",
       "      <td>False</td>\n",
       "      <td>False</td>\n",
       "      <td>False</td>\n",
       "      <td>...</td>\n",
       "      <td>False</td>\n",
       "      <td>False</td>\n",
       "      <td>False</td>\n",
       "      <td>False</td>\n",
       "      <td>False</td>\n",
       "      <td>True</td>\n",
       "      <td>False</td>\n",
       "      <td>False</td>\n",
       "      <td>False</td>\n",
       "      <td>False</td>\n",
       "    </tr>\n",
       "    <tr>\n",
       "      <th>10837</th>\n",
       "      <td>4</td>\n",
       "      <td>3600000.0</td>\n",
       "      <td>100</td>\n",
       "      <td>1</td>\n",
       "      <td>0.0</td>\n",
       "      <td>0</td>\n",
       "      <td>False</td>\n",
       "      <td>False</td>\n",
       "      <td>False</td>\n",
       "      <td>False</td>\n",
       "      <td>...</td>\n",
       "      <td>False</td>\n",
       "      <td>False</td>\n",
       "      <td>False</td>\n",
       "      <td>False</td>\n",
       "      <td>False</td>\n",
       "      <td>True</td>\n",
       "      <td>False</td>\n",
       "      <td>False</td>\n",
       "      <td>False</td>\n",
       "      <td>False</td>\n",
       "    </tr>\n",
       "    <tr>\n",
       "      <th>10840</th>\n",
       "      <td>398307</td>\n",
       "      <td>19000000.0</td>\n",
       "      <td>10000000</td>\n",
       "      <td>1</td>\n",
       "      <td>0.0</td>\n",
       "      <td>0</td>\n",
       "      <td>False</td>\n",
       "      <td>False</td>\n",
       "      <td>False</td>\n",
       "      <td>False</td>\n",
       "      <td>...</td>\n",
       "      <td>False</td>\n",
       "      <td>False</td>\n",
       "      <td>False</td>\n",
       "      <td>False</td>\n",
       "      <td>False</td>\n",
       "      <td>True</td>\n",
       "      <td>False</td>\n",
       "      <td>False</td>\n",
       "      <td>False</td>\n",
       "      <td>False</td>\n",
       "    </tr>\n",
       "  </tbody>\n",
       "</table>\n",
       "<p>7377 rows × 45 columns</p>\n",
       "</div>"
      ],
      "text/plain": [
       "       Reviews        Size  Installs  Type  Price  Rating_category  \\\n",
       "0          159  19000000.0     10000     1    0.0                0   \n",
       "1          967  14000000.0    500000     1    0.0                0   \n",
       "2        87510   8700000.0   5000000     1    0.0                0   \n",
       "3       215644  25000000.0  50000000     1    0.0                0   \n",
       "4          967   2800000.0    100000     1    0.0                0   \n",
       "...        ...         ...       ...   ...    ...              ...   \n",
       "10833       44    619000.0      1000     1    0.0                0   \n",
       "10834        7   2600000.0       500     1    0.0                0   \n",
       "10836       38  53000000.0      5000     1    0.0                0   \n",
       "10837        4   3600000.0       100     1    0.0                0   \n",
       "10840   398307  19000000.0  10000000     1    0.0                0   \n",
       "\n",
       "       Category_ART_AND_DESIGN  Category_AUTO_AND_VEHICLES  Category_BEAUTY  \\\n",
       "0                         True                       False            False   \n",
       "1                         True                       False            False   \n",
       "2                         True                       False            False   \n",
       "3                         True                       False            False   \n",
       "4                         True                       False            False   \n",
       "...                        ...                         ...              ...   \n",
       "10833                    False                       False            False   \n",
       "10834                    False                       False            False   \n",
       "10836                    False                       False            False   \n",
       "10837                    False                       False            False   \n",
       "10840                    False                       False            False   \n",
       "\n",
       "       Category_BOOKS_AND_REFERENCE  ...  Category_TOOLS  \\\n",
       "0                             False  ...           False   \n",
       "1                             False  ...           False   \n",
       "2                             False  ...           False   \n",
       "3                             False  ...           False   \n",
       "4                             False  ...           False   \n",
       "...                             ...  ...             ...   \n",
       "10833                          True  ...           False   \n",
       "10834                         False  ...           False   \n",
       "10836                         False  ...           False   \n",
       "10837                         False  ...           False   \n",
       "10840                         False  ...           False   \n",
       "\n",
       "       Category_TRAVEL_AND_LOCAL  Category_VIDEO_PLAYERS  Category_WEATHER  \\\n",
       "0                          False                   False             False   \n",
       "1                          False                   False             False   \n",
       "2                          False                   False             False   \n",
       "3                          False                   False             False   \n",
       "4                          False                   False             False   \n",
       "...                          ...                     ...               ...   \n",
       "10833                      False                   False             False   \n",
       "10834                      False                   False             False   \n",
       "10836                      False                   False             False   \n",
       "10837                      False                   False             False   \n",
       "10840                      False                   False             False   \n",
       "\n",
       "       Content Rating_Adults only 18+  Content Rating_Everyone  \\\n",
       "0                               False                     True   \n",
       "1                               False                     True   \n",
       "2                               False                     True   \n",
       "3                               False                    False   \n",
       "4                               False                     True   \n",
       "...                               ...                      ...   \n",
       "10833                           False                     True   \n",
       "10834                           False                     True   \n",
       "10836                           False                     True   \n",
       "10837                           False                     True   \n",
       "10840                           False                     True   \n",
       "\n",
       "       Content Rating_Everyone 10+  Content Rating_Mature 17+  \\\n",
       "0                            False                      False   \n",
       "1                            False                      False   \n",
       "2                            False                      False   \n",
       "3                            False                      False   \n",
       "4                            False                      False   \n",
       "...                            ...                        ...   \n",
       "10833                        False                      False   \n",
       "10834                        False                      False   \n",
       "10836                        False                      False   \n",
       "10837                        False                      False   \n",
       "10840                        False                      False   \n",
       "\n",
       "       Content Rating_Teen  Content Rating_Unrated  \n",
       "0                    False                   False  \n",
       "1                    False                   False  \n",
       "2                    False                   False  \n",
       "3                     True                   False  \n",
       "4                    False                   False  \n",
       "...                    ...                     ...  \n",
       "10833                False                   False  \n",
       "10834                False                   False  \n",
       "10836                False                   False  \n",
       "10837                False                   False  \n",
       "10840                False                   False  \n",
       "\n",
       "[7377 rows x 45 columns]"
      ]
     },
     "execution_count": 60,
     "metadata": {},
     "output_type": "execute_result"
    }
   ],
   "source": [
    "df1"
   ]
  },
  {
   "cell_type": "markdown",
   "id": "abd856c5-b242-408d-aefa-d0eb50949d7a",
   "metadata": {},
   "source": [
    "<font  style = \"font-weight: bold;  font-size:1.9em;\">14. Segregate the target and independent features (Hint: Use Rating_category as the target) "
   ]
  },
  {
   "cell_type": "code",
   "execution_count": 61,
   "id": "5d73dcab-2bd1-4e78-943e-62e86a40edbd",
   "metadata": {},
   "outputs": [
    {
     "data": {
      "text/html": [
       "<div>\n",
       "<style scoped>\n",
       "    .dataframe tbody tr th:only-of-type {\n",
       "        vertical-align: middle;\n",
       "    }\n",
       "\n",
       "    .dataframe tbody tr th {\n",
       "        vertical-align: top;\n",
       "    }\n",
       "\n",
       "    .dataframe thead th {\n",
       "        text-align: right;\n",
       "    }\n",
       "</style>\n",
       "<table border=\"1\" class=\"dataframe\">\n",
       "  <thead>\n",
       "    <tr style=\"text-align: right;\">\n",
       "      <th></th>\n",
       "      <th>Reviews</th>\n",
       "      <th>Size</th>\n",
       "      <th>Installs</th>\n",
       "      <th>Type</th>\n",
       "      <th>Price</th>\n",
       "      <th>Category_ART_AND_DESIGN</th>\n",
       "      <th>Category_AUTO_AND_VEHICLES</th>\n",
       "      <th>Category_BEAUTY</th>\n",
       "      <th>Category_BOOKS_AND_REFERENCE</th>\n",
       "      <th>Category_BUSINESS</th>\n",
       "      <th>...</th>\n",
       "      <th>Category_TOOLS</th>\n",
       "      <th>Category_TRAVEL_AND_LOCAL</th>\n",
       "      <th>Category_VIDEO_PLAYERS</th>\n",
       "      <th>Category_WEATHER</th>\n",
       "      <th>Content Rating_Adults only 18+</th>\n",
       "      <th>Content Rating_Everyone</th>\n",
       "      <th>Content Rating_Everyone 10+</th>\n",
       "      <th>Content Rating_Mature 17+</th>\n",
       "      <th>Content Rating_Teen</th>\n",
       "      <th>Content Rating_Unrated</th>\n",
       "    </tr>\n",
       "  </thead>\n",
       "  <tbody>\n",
       "    <tr>\n",
       "      <th>0</th>\n",
       "      <td>159</td>\n",
       "      <td>19000000.0</td>\n",
       "      <td>10000</td>\n",
       "      <td>1</td>\n",
       "      <td>0.0</td>\n",
       "      <td>True</td>\n",
       "      <td>False</td>\n",
       "      <td>False</td>\n",
       "      <td>False</td>\n",
       "      <td>False</td>\n",
       "      <td>...</td>\n",
       "      <td>False</td>\n",
       "      <td>False</td>\n",
       "      <td>False</td>\n",
       "      <td>False</td>\n",
       "      <td>False</td>\n",
       "      <td>True</td>\n",
       "      <td>False</td>\n",
       "      <td>False</td>\n",
       "      <td>False</td>\n",
       "      <td>False</td>\n",
       "    </tr>\n",
       "    <tr>\n",
       "      <th>1</th>\n",
       "      <td>967</td>\n",
       "      <td>14000000.0</td>\n",
       "      <td>500000</td>\n",
       "      <td>1</td>\n",
       "      <td>0.0</td>\n",
       "      <td>True</td>\n",
       "      <td>False</td>\n",
       "      <td>False</td>\n",
       "      <td>False</td>\n",
       "      <td>False</td>\n",
       "      <td>...</td>\n",
       "      <td>False</td>\n",
       "      <td>False</td>\n",
       "      <td>False</td>\n",
       "      <td>False</td>\n",
       "      <td>False</td>\n",
       "      <td>True</td>\n",
       "      <td>False</td>\n",
       "      <td>False</td>\n",
       "      <td>False</td>\n",
       "      <td>False</td>\n",
       "    </tr>\n",
       "    <tr>\n",
       "      <th>2</th>\n",
       "      <td>87510</td>\n",
       "      <td>8700000.0</td>\n",
       "      <td>5000000</td>\n",
       "      <td>1</td>\n",
       "      <td>0.0</td>\n",
       "      <td>True</td>\n",
       "      <td>False</td>\n",
       "      <td>False</td>\n",
       "      <td>False</td>\n",
       "      <td>False</td>\n",
       "      <td>...</td>\n",
       "      <td>False</td>\n",
       "      <td>False</td>\n",
       "      <td>False</td>\n",
       "      <td>False</td>\n",
       "      <td>False</td>\n",
       "      <td>True</td>\n",
       "      <td>False</td>\n",
       "      <td>False</td>\n",
       "      <td>False</td>\n",
       "      <td>False</td>\n",
       "    </tr>\n",
       "    <tr>\n",
       "      <th>3</th>\n",
       "      <td>215644</td>\n",
       "      <td>25000000.0</td>\n",
       "      <td>50000000</td>\n",
       "      <td>1</td>\n",
       "      <td>0.0</td>\n",
       "      <td>True</td>\n",
       "      <td>False</td>\n",
       "      <td>False</td>\n",
       "      <td>False</td>\n",
       "      <td>False</td>\n",
       "      <td>...</td>\n",
       "      <td>False</td>\n",
       "      <td>False</td>\n",
       "      <td>False</td>\n",
       "      <td>False</td>\n",
       "      <td>False</td>\n",
       "      <td>False</td>\n",
       "      <td>False</td>\n",
       "      <td>False</td>\n",
       "      <td>True</td>\n",
       "      <td>False</td>\n",
       "    </tr>\n",
       "    <tr>\n",
       "      <th>4</th>\n",
       "      <td>967</td>\n",
       "      <td>2800000.0</td>\n",
       "      <td>100000</td>\n",
       "      <td>1</td>\n",
       "      <td>0.0</td>\n",
       "      <td>True</td>\n",
       "      <td>False</td>\n",
       "      <td>False</td>\n",
       "      <td>False</td>\n",
       "      <td>False</td>\n",
       "      <td>...</td>\n",
       "      <td>False</td>\n",
       "      <td>False</td>\n",
       "      <td>False</td>\n",
       "      <td>False</td>\n",
       "      <td>False</td>\n",
       "      <td>True</td>\n",
       "      <td>False</td>\n",
       "      <td>False</td>\n",
       "      <td>False</td>\n",
       "      <td>False</td>\n",
       "    </tr>\n",
       "    <tr>\n",
       "      <th>...</th>\n",
       "      <td>...</td>\n",
       "      <td>...</td>\n",
       "      <td>...</td>\n",
       "      <td>...</td>\n",
       "      <td>...</td>\n",
       "      <td>...</td>\n",
       "      <td>...</td>\n",
       "      <td>...</td>\n",
       "      <td>...</td>\n",
       "      <td>...</td>\n",
       "      <td>...</td>\n",
       "      <td>...</td>\n",
       "      <td>...</td>\n",
       "      <td>...</td>\n",
       "      <td>...</td>\n",
       "      <td>...</td>\n",
       "      <td>...</td>\n",
       "      <td>...</td>\n",
       "      <td>...</td>\n",
       "      <td>...</td>\n",
       "      <td>...</td>\n",
       "    </tr>\n",
       "    <tr>\n",
       "      <th>10833</th>\n",
       "      <td>44</td>\n",
       "      <td>619000.0</td>\n",
       "      <td>1000</td>\n",
       "      <td>1</td>\n",
       "      <td>0.0</td>\n",
       "      <td>False</td>\n",
       "      <td>False</td>\n",
       "      <td>False</td>\n",
       "      <td>True</td>\n",
       "      <td>False</td>\n",
       "      <td>...</td>\n",
       "      <td>False</td>\n",
       "      <td>False</td>\n",
       "      <td>False</td>\n",
       "      <td>False</td>\n",
       "      <td>False</td>\n",
       "      <td>True</td>\n",
       "      <td>False</td>\n",
       "      <td>False</td>\n",
       "      <td>False</td>\n",
       "      <td>False</td>\n",
       "    </tr>\n",
       "    <tr>\n",
       "      <th>10834</th>\n",
       "      <td>7</td>\n",
       "      <td>2600000.0</td>\n",
       "      <td>500</td>\n",
       "      <td>1</td>\n",
       "      <td>0.0</td>\n",
       "      <td>False</td>\n",
       "      <td>False</td>\n",
       "      <td>False</td>\n",
       "      <td>False</td>\n",
       "      <td>False</td>\n",
       "      <td>...</td>\n",
       "      <td>False</td>\n",
       "      <td>False</td>\n",
       "      <td>False</td>\n",
       "      <td>False</td>\n",
       "      <td>False</td>\n",
       "      <td>True</td>\n",
       "      <td>False</td>\n",
       "      <td>False</td>\n",
       "      <td>False</td>\n",
       "      <td>False</td>\n",
       "    </tr>\n",
       "    <tr>\n",
       "      <th>10836</th>\n",
       "      <td>38</td>\n",
       "      <td>53000000.0</td>\n",
       "      <td>5000</td>\n",
       "      <td>1</td>\n",
       "      <td>0.0</td>\n",
       "      <td>False</td>\n",
       "      <td>False</td>\n",
       "      <td>False</td>\n",
       "      <td>False</td>\n",
       "      <td>False</td>\n",
       "      <td>...</td>\n",
       "      <td>False</td>\n",
       "      <td>False</td>\n",
       "      <td>False</td>\n",
       "      <td>False</td>\n",
       "      <td>False</td>\n",
       "      <td>True</td>\n",
       "      <td>False</td>\n",
       "      <td>False</td>\n",
       "      <td>False</td>\n",
       "      <td>False</td>\n",
       "    </tr>\n",
       "    <tr>\n",
       "      <th>10837</th>\n",
       "      <td>4</td>\n",
       "      <td>3600000.0</td>\n",
       "      <td>100</td>\n",
       "      <td>1</td>\n",
       "      <td>0.0</td>\n",
       "      <td>False</td>\n",
       "      <td>False</td>\n",
       "      <td>False</td>\n",
       "      <td>False</td>\n",
       "      <td>False</td>\n",
       "      <td>...</td>\n",
       "      <td>False</td>\n",
       "      <td>False</td>\n",
       "      <td>False</td>\n",
       "      <td>False</td>\n",
       "      <td>False</td>\n",
       "      <td>True</td>\n",
       "      <td>False</td>\n",
       "      <td>False</td>\n",
       "      <td>False</td>\n",
       "      <td>False</td>\n",
       "    </tr>\n",
       "    <tr>\n",
       "      <th>10840</th>\n",
       "      <td>398307</td>\n",
       "      <td>19000000.0</td>\n",
       "      <td>10000000</td>\n",
       "      <td>1</td>\n",
       "      <td>0.0</td>\n",
       "      <td>False</td>\n",
       "      <td>False</td>\n",
       "      <td>False</td>\n",
       "      <td>False</td>\n",
       "      <td>False</td>\n",
       "      <td>...</td>\n",
       "      <td>False</td>\n",
       "      <td>False</td>\n",
       "      <td>False</td>\n",
       "      <td>False</td>\n",
       "      <td>False</td>\n",
       "      <td>True</td>\n",
       "      <td>False</td>\n",
       "      <td>False</td>\n",
       "      <td>False</td>\n",
       "      <td>False</td>\n",
       "    </tr>\n",
       "  </tbody>\n",
       "</table>\n",
       "<p>7377 rows × 44 columns</p>\n",
       "</div>"
      ],
      "text/plain": [
       "       Reviews        Size  Installs  Type  Price  Category_ART_AND_DESIGN  \\\n",
       "0          159  19000000.0     10000     1    0.0                     True   \n",
       "1          967  14000000.0    500000     1    0.0                     True   \n",
       "2        87510   8700000.0   5000000     1    0.0                     True   \n",
       "3       215644  25000000.0  50000000     1    0.0                     True   \n",
       "4          967   2800000.0    100000     1    0.0                     True   \n",
       "...        ...         ...       ...   ...    ...                      ...   \n",
       "10833       44    619000.0      1000     1    0.0                    False   \n",
       "10834        7   2600000.0       500     1    0.0                    False   \n",
       "10836       38  53000000.0      5000     1    0.0                    False   \n",
       "10837        4   3600000.0       100     1    0.0                    False   \n",
       "10840   398307  19000000.0  10000000     1    0.0                    False   \n",
       "\n",
       "       Category_AUTO_AND_VEHICLES  Category_BEAUTY  \\\n",
       "0                           False            False   \n",
       "1                           False            False   \n",
       "2                           False            False   \n",
       "3                           False            False   \n",
       "4                           False            False   \n",
       "...                           ...              ...   \n",
       "10833                       False            False   \n",
       "10834                       False            False   \n",
       "10836                       False            False   \n",
       "10837                       False            False   \n",
       "10840                       False            False   \n",
       "\n",
       "       Category_BOOKS_AND_REFERENCE  Category_BUSINESS  ...  Category_TOOLS  \\\n",
       "0                             False              False  ...           False   \n",
       "1                             False              False  ...           False   \n",
       "2                             False              False  ...           False   \n",
       "3                             False              False  ...           False   \n",
       "4                             False              False  ...           False   \n",
       "...                             ...                ...  ...             ...   \n",
       "10833                          True              False  ...           False   \n",
       "10834                         False              False  ...           False   \n",
       "10836                         False              False  ...           False   \n",
       "10837                         False              False  ...           False   \n",
       "10840                         False              False  ...           False   \n",
       "\n",
       "       Category_TRAVEL_AND_LOCAL  Category_VIDEO_PLAYERS  Category_WEATHER  \\\n",
       "0                          False                   False             False   \n",
       "1                          False                   False             False   \n",
       "2                          False                   False             False   \n",
       "3                          False                   False             False   \n",
       "4                          False                   False             False   \n",
       "...                          ...                     ...               ...   \n",
       "10833                      False                   False             False   \n",
       "10834                      False                   False             False   \n",
       "10836                      False                   False             False   \n",
       "10837                      False                   False             False   \n",
       "10840                      False                   False             False   \n",
       "\n",
       "       Content Rating_Adults only 18+  Content Rating_Everyone  \\\n",
       "0                               False                     True   \n",
       "1                               False                     True   \n",
       "2                               False                     True   \n",
       "3                               False                    False   \n",
       "4                               False                     True   \n",
       "...                               ...                      ...   \n",
       "10833                           False                     True   \n",
       "10834                           False                     True   \n",
       "10836                           False                     True   \n",
       "10837                           False                     True   \n",
       "10840                           False                     True   \n",
       "\n",
       "       Content Rating_Everyone 10+  Content Rating_Mature 17+  \\\n",
       "0                            False                      False   \n",
       "1                            False                      False   \n",
       "2                            False                      False   \n",
       "3                            False                      False   \n",
       "4                            False                      False   \n",
       "...                            ...                        ...   \n",
       "10833                        False                      False   \n",
       "10834                        False                      False   \n",
       "10836                        False                      False   \n",
       "10837                        False                      False   \n",
       "10840                        False                      False   \n",
       "\n",
       "       Content Rating_Teen  Content Rating_Unrated  \n",
       "0                    False                   False  \n",
       "1                    False                   False  \n",
       "2                    False                   False  \n",
       "3                     True                   False  \n",
       "4                    False                   False  \n",
       "...                    ...                     ...  \n",
       "10833                False                   False  \n",
       "10834                False                   False  \n",
       "10836                False                   False  \n",
       "10837                False                   False  \n",
       "10840                False                   False  \n",
       "\n",
       "[7377 rows x 44 columns]"
      ]
     },
     "execution_count": 61,
     "metadata": {},
     "output_type": "execute_result"
    }
   ],
   "source": [
    "X=df1.drop([\"Rating_category\"],axis=1)\n",
    "X"
   ]
  },
  {
   "cell_type": "code",
   "execution_count": 62,
   "id": "4d2c98d3-49ac-4beb-a2a7-dfe4c7093f80",
   "metadata": {},
   "outputs": [],
   "source": [
    "y=df1[\"Rating_category\"]"
   ]
  },
  {
   "cell_type": "code",
   "execution_count": null,
   "id": "d2c2da7f-f812-41b8-a130-3f3eaef884a8",
   "metadata": {},
   "outputs": [],
   "source": []
  },
  {
   "cell_type": "markdown",
   "id": "932463ec-8b45-40bd-a249-025f1fdd8faf",
   "metadata": {},
   "source": [
    "<font  style = \"font-weight: bold; font-size:1.9em;\">15. Split the dataset into train and test. \n"
   ]
  },
  {
   "cell_type": "code",
   "execution_count": 63,
   "id": "bbb074ac-481a-474b-b265-5a722aac2280",
   "metadata": {},
   "outputs": [
    {
     "name": "stdout",
     "output_type": "stream",
     "text": [
      "(5532, 44)\n",
      "(1845, 44)\n",
      "(5532,)\n",
      "(1845,)\n"
     ]
    }
   ],
   "source": [
    "X_train,X_test,y_train,y_test=train_test_split(X,y, test_size=0.25, random_state=555)\n",
    "print(X_train.shape)\n",
    "print(X_test.shape)\n",
    "print(y_train.shape)\n",
    "print(y_test.shape)"
   ]
  },
  {
   "cell_type": "code",
   "execution_count": null,
   "id": "f0824ae8-72a1-4714-9917-ff9de6498143",
   "metadata": {},
   "outputs": [],
   "source": []
  },
  {
   "cell_type": "markdown",
   "id": "59ac31f6-af2d-48d3-9006-d97621341c6d",
   "metadata": {},
   "source": [
    "<font  style = \"font-weight: bold;  font-size:1.9em;\">16. Standardize the data, so that the values are within a particular range."
   ]
  },
  {
   "cell_type": "markdown",
   "id": "d20040fe-ae7e-4a81-b503-3d2e137f1b72",
   "metadata": {},
   "source": [
    "* using MinMaxScaler this method will tansform each value in the column proportionally within the range [0,1]  "
   ]
  },
  {
   "cell_type": "code",
   "execution_count": 64,
   "id": "0063e611-97e0-4149-b330-97ff4a773839",
   "metadata": {},
   "outputs": [],
   "source": [
    "model=MinMaxScaler()\n",
    "df2 =pd.DataFrame(model.fit_transform(df1),columns=df1.columns)"
   ]
  },
  {
   "cell_type": "code",
   "execution_count": null,
   "id": "be570570-2546-4fd9-85e2-a6c482171b2b",
   "metadata": {},
   "outputs": [],
   "source": []
  },
  {
   "cell_type": "code",
   "execution_count": 65,
   "id": "24adb064-769e-4c3b-bb72-136f3acc28a1",
   "metadata": {},
   "outputs": [
    {
     "data": {
      "text/html": [
       "<div>\n",
       "<style scoped>\n",
       "    .dataframe tbody tr th:only-of-type {\n",
       "        vertical-align: middle;\n",
       "    }\n",
       "\n",
       "    .dataframe tbody tr th {\n",
       "        vertical-align: top;\n",
       "    }\n",
       "\n",
       "    .dataframe thead th {\n",
       "        text-align: right;\n",
       "    }\n",
       "</style>\n",
       "<table border=\"1\" class=\"dataframe\">\n",
       "  <thead>\n",
       "    <tr style=\"text-align: right;\">\n",
       "      <th></th>\n",
       "      <th>Reviews</th>\n",
       "      <th>Size</th>\n",
       "      <th>Installs</th>\n",
       "      <th>Type</th>\n",
       "      <th>Price</th>\n",
       "      <th>Rating_category</th>\n",
       "      <th>Category_ART_AND_DESIGN</th>\n",
       "      <th>Category_AUTO_AND_VEHICLES</th>\n",
       "      <th>Category_BEAUTY</th>\n",
       "      <th>Category_BOOKS_AND_REFERENCE</th>\n",
       "      <th>...</th>\n",
       "      <th>Category_TOOLS</th>\n",
       "      <th>Category_TRAVEL_AND_LOCAL</th>\n",
       "      <th>Category_VIDEO_PLAYERS</th>\n",
       "      <th>Category_WEATHER</th>\n",
       "      <th>Content Rating_Adults only 18+</th>\n",
       "      <th>Content Rating_Everyone</th>\n",
       "      <th>Content Rating_Everyone 10+</th>\n",
       "      <th>Content Rating_Mature 17+</th>\n",
       "      <th>Content Rating_Teen</th>\n",
       "      <th>Content Rating_Unrated</th>\n",
       "    </tr>\n",
       "  </thead>\n",
       "  <tbody>\n",
       "    <tr>\n",
       "      <th>0</th>\n",
       "      <td>0.000018</td>\n",
       "      <td>0.189931</td>\n",
       "      <td>0.00001</td>\n",
       "      <td>1.0</td>\n",
       "      <td>0.0</td>\n",
       "      <td>0.0</td>\n",
       "      <td>1.0</td>\n",
       "      <td>0.0</td>\n",
       "      <td>0.0</td>\n",
       "      <td>0.0</td>\n",
       "      <td>...</td>\n",
       "      <td>0.0</td>\n",
       "      <td>0.0</td>\n",
       "      <td>0.0</td>\n",
       "      <td>0.0</td>\n",
       "      <td>0.0</td>\n",
       "      <td>1.0</td>\n",
       "      <td>0.0</td>\n",
       "      <td>0.0</td>\n",
       "      <td>0.0</td>\n",
       "      <td>0.0</td>\n",
       "    </tr>\n",
       "    <tr>\n",
       "      <th>1</th>\n",
       "      <td>0.000108</td>\n",
       "      <td>0.139927</td>\n",
       "      <td>0.00050</td>\n",
       "      <td>1.0</td>\n",
       "      <td>0.0</td>\n",
       "      <td>0.0</td>\n",
       "      <td>1.0</td>\n",
       "      <td>0.0</td>\n",
       "      <td>0.0</td>\n",
       "      <td>0.0</td>\n",
       "      <td>...</td>\n",
       "      <td>0.0</td>\n",
       "      <td>0.0</td>\n",
       "      <td>0.0</td>\n",
       "      <td>0.0</td>\n",
       "      <td>0.0</td>\n",
       "      <td>1.0</td>\n",
       "      <td>0.0</td>\n",
       "      <td>0.0</td>\n",
       "      <td>0.0</td>\n",
       "      <td>0.0</td>\n",
       "    </tr>\n",
       "    <tr>\n",
       "      <th>2</th>\n",
       "      <td>0.009806</td>\n",
       "      <td>0.086922</td>\n",
       "      <td>0.00500</td>\n",
       "      <td>1.0</td>\n",
       "      <td>0.0</td>\n",
       "      <td>0.0</td>\n",
       "      <td>1.0</td>\n",
       "      <td>0.0</td>\n",
       "      <td>0.0</td>\n",
       "      <td>0.0</td>\n",
       "      <td>...</td>\n",
       "      <td>0.0</td>\n",
       "      <td>0.0</td>\n",
       "      <td>0.0</td>\n",
       "      <td>0.0</td>\n",
       "      <td>0.0</td>\n",
       "      <td>1.0</td>\n",
       "      <td>0.0</td>\n",
       "      <td>0.0</td>\n",
       "      <td>0.0</td>\n",
       "      <td>0.0</td>\n",
       "    </tr>\n",
       "    <tr>\n",
       "      <th>3</th>\n",
       "      <td>0.024165</td>\n",
       "      <td>0.249936</td>\n",
       "      <td>0.05000</td>\n",
       "      <td>1.0</td>\n",
       "      <td>0.0</td>\n",
       "      <td>0.0</td>\n",
       "      <td>1.0</td>\n",
       "      <td>0.0</td>\n",
       "      <td>0.0</td>\n",
       "      <td>0.0</td>\n",
       "      <td>...</td>\n",
       "      <td>0.0</td>\n",
       "      <td>0.0</td>\n",
       "      <td>0.0</td>\n",
       "      <td>0.0</td>\n",
       "      <td>0.0</td>\n",
       "      <td>0.0</td>\n",
       "      <td>0.0</td>\n",
       "      <td>0.0</td>\n",
       "      <td>1.0</td>\n",
       "      <td>0.0</td>\n",
       "    </tr>\n",
       "    <tr>\n",
       "      <th>4</th>\n",
       "      <td>0.000108</td>\n",
       "      <td>0.027917</td>\n",
       "      <td>0.00010</td>\n",
       "      <td>1.0</td>\n",
       "      <td>0.0</td>\n",
       "      <td>0.0</td>\n",
       "      <td>1.0</td>\n",
       "      <td>0.0</td>\n",
       "      <td>0.0</td>\n",
       "      <td>0.0</td>\n",
       "      <td>...</td>\n",
       "      <td>0.0</td>\n",
       "      <td>0.0</td>\n",
       "      <td>0.0</td>\n",
       "      <td>0.0</td>\n",
       "      <td>0.0</td>\n",
       "      <td>1.0</td>\n",
       "      <td>0.0</td>\n",
       "      <td>0.0</td>\n",
       "      <td>0.0</td>\n",
       "      <td>0.0</td>\n",
       "    </tr>\n",
       "  </tbody>\n",
       "</table>\n",
       "<p>5 rows × 45 columns</p>\n",
       "</div>"
      ],
      "text/plain": [
       "    Reviews      Size  Installs  Type  Price  Rating_category  \\\n",
       "0  0.000018  0.189931   0.00001   1.0    0.0              0.0   \n",
       "1  0.000108  0.139927   0.00050   1.0    0.0              0.0   \n",
       "2  0.009806  0.086922   0.00500   1.0    0.0              0.0   \n",
       "3  0.024165  0.249936   0.05000   1.0    0.0              0.0   \n",
       "4  0.000108  0.027917   0.00010   1.0    0.0              0.0   \n",
       "\n",
       "   Category_ART_AND_DESIGN  Category_AUTO_AND_VEHICLES  Category_BEAUTY  \\\n",
       "0                      1.0                         0.0              0.0   \n",
       "1                      1.0                         0.0              0.0   \n",
       "2                      1.0                         0.0              0.0   \n",
       "3                      1.0                         0.0              0.0   \n",
       "4                      1.0                         0.0              0.0   \n",
       "\n",
       "   Category_BOOKS_AND_REFERENCE  ...  Category_TOOLS  \\\n",
       "0                           0.0  ...             0.0   \n",
       "1                           0.0  ...             0.0   \n",
       "2                           0.0  ...             0.0   \n",
       "3                           0.0  ...             0.0   \n",
       "4                           0.0  ...             0.0   \n",
       "\n",
       "   Category_TRAVEL_AND_LOCAL  Category_VIDEO_PLAYERS  Category_WEATHER  \\\n",
       "0                        0.0                     0.0               0.0   \n",
       "1                        0.0                     0.0               0.0   \n",
       "2                        0.0                     0.0               0.0   \n",
       "3                        0.0                     0.0               0.0   \n",
       "4                        0.0                     0.0               0.0   \n",
       "\n",
       "   Content Rating_Adults only 18+  Content Rating_Everyone  \\\n",
       "0                             0.0                      1.0   \n",
       "1                             0.0                      1.0   \n",
       "2                             0.0                      1.0   \n",
       "3                             0.0                      0.0   \n",
       "4                             0.0                      1.0   \n",
       "\n",
       "   Content Rating_Everyone 10+  Content Rating_Mature 17+  \\\n",
       "0                          0.0                        0.0   \n",
       "1                          0.0                        0.0   \n",
       "2                          0.0                        0.0   \n",
       "3                          0.0                        0.0   \n",
       "4                          0.0                        0.0   \n",
       "\n",
       "   Content Rating_Teen  Content Rating_Unrated  \n",
       "0                  0.0                     0.0  \n",
       "1                  0.0                     0.0  \n",
       "2                  0.0                     0.0  \n",
       "3                  1.0                     0.0  \n",
       "4                  0.0                     0.0  \n",
       "\n",
       "[5 rows x 45 columns]"
      ]
     },
     "execution_count": 65,
     "metadata": {},
     "output_type": "execute_result"
    }
   ],
   "source": [
    "df2.head()"
   ]
  },
  {
   "cell_type": "code",
   "execution_count": null,
   "id": "c686f463-b93e-4af9-bc6c-a6eba08a1202",
   "metadata": {},
   "outputs": [],
   "source": []
  }
 ],
 "metadata": {
  "kernelspec": {
   "display_name": "Python 3 (ipykernel)",
   "language": "python",
   "name": "python3"
  },
  "language_info": {
   "codemirror_mode": {
    "name": "ipython",
    "version": 3
   },
   "file_extension": ".py",
   "mimetype": "text/x-python",
   "name": "python",
   "nbconvert_exporter": "python",
   "pygments_lexer": "ipython3",
   "version": "3.11.4"
  }
 },
 "nbformat": 4,
 "nbformat_minor": 5
}
